{
 "cells": [
  {
   "cell_type": "code",
   "execution_count": 1,
   "id": "857a13f8",
   "metadata": {},
   "outputs": [],
   "source": [
    "import json\n",
    "from tqdm import tqdm\n",
    "\n",
    "def load_Yelp_data(path):\n",
    "    final_user_set = {}\n",
    "    final_item_set = {}\n",
    "    edge_index = {}\n",
    "    edge_feature = {}\n",
    "\n",
    "    with open(path+'yelp_academic_dataset_user.json', 'r', encoding='utf-8') as f:\n",
    "        all_data = f.readlines()\n",
    "        for line in tqdm(all_data):\n",
    "            current_data = json.loads(line)\n",
    "            current_node = current_data['user_id']\n",
    "            del current_data['user_id']\n",
    "            final_user_set[current_node] = current_data      \n",
    "   \n",
    "                \n",
    "    with open(path+'yelp_academic_dataset_business.json', 'r', encoding='utf-8') as f:\n",
    "        all_data = f.readlines()\n",
    "        for line in tqdm(all_data):\n",
    "            current_data = json.loads(line)\n",
    "            current_node = current_data['business_id']\n",
    "            del current_data['business_id']\n",
    "            final_item_set[current_node] = current_data      \n",
    "            \n",
    "    \n",
    "    with open(path+'yelp_academic_dataset_review.json', 'r', encoding='utf-8') as f:\n",
    "        all_data = f.readlines()\n",
    "        for line in tqdm(all_data):\n",
    "            current_data = json.loads(line)\n",
    "            current_business = current_data['business_id']\n",
    "            current_user = current_data['user_id']\n",
    "            cool_level = int(current_data['funny']) + int(current_data['useful']) + int(current_data['cool'])\n",
    "            current_edge_feature = {'date':current_data['date'], 'text':current_data['text'], 'rate':current_data['stars'], 'rate_level':cool_level}\n",
    "            edge_feature[str(current_user) + '|' + str(current_business)] = current_edge_feature\n",
    "            if current_user in edge_index:\n",
    "                edge_index[current_user].append(current_business)\n",
    "            else:\n",
    "                edge_index[current_user] = [current_business]\n",
    "                \n",
    "    return edge_index, final_user_set, final_item_set, edge_feature"
   ]
  },
  {
   "cell_type": "code",
   "execution_count": null,
   "id": "04e863ca",
   "metadata": {},
   "outputs": [
    {
     "name": "stderr",
     "output_type": "stream",
     "text": [
      "100%|█████████████████████████████████████████████████████████████████████| 2189457/2189457 [01:00<00:00, 36022.16it/s]\n",
      "100%|███████████████████████████████████████████████████████████████████████| 160585/160585 [00:03<00:00, 43439.21it/s]\n",
      " 96%|█████████████████████████████████████████████████████████████████▎  | 8287148/8635403 [04:01<00:02, 120644.31it/s]"
     ]
    }
   ],
   "source": [
    "edge_index, final_user_feature_dic, final_item_feature_dic, edge_feature = load_Yelp_data('yelp_dataset/')"
   ]
  },
  {
   "cell_type": "code",
   "execution_count": null,
   "id": "9d665ebc",
   "metadata": {},
   "outputs": [],
   "source": [
    "import ast\n",
    "def attribute_analysis(attr):\n",
    "    final_str = ''\n",
    "    for key in attr.keys():\n",
    "        if attr[key][0] != '{' and attr[key][-1] != '}':\n",
    "            final_str += '{} is {}. '.format(key, attr[key])\n",
    "        else:\n",
    "            values = json.loads(json.dumps(ast.literal_eval(attr[key])))\n",
    "            final_str += 'The business contains {} where '.format(key)\n",
    "            for sub_key in values:\n",
    "                final_str+='{} is {}. '.format(sub_key, values[sub_key])\n",
    "    return final_str\n",
    "\n",
    "def feature_transformation(final_feature):\n",
    "    final_feature_dic = {}\n",
    "    for key_name in tqdm(list(final_feature.keys())):\n",
    "        feature = final_feature[key_name]\n",
    "        if 'fans' in feature.keys(): # User feature\n",
    "            if len(feature['elite'])!=0:\n",
    "                elite_period = max([int(i) for i in feature['elite'].split(',')]) - min([int(i) for i in feature['elite'].split(',')])\n",
    "            else:\n",
    "                elite_period = 0\n",
    "            friends_count = len(feature['friends'].split(', '))\n",
    "            valid_user_feature = [feature[i] for i in list(feature.keys())[-13:]]\n",
    "            temp_feature = [feature['review_count'], feature['useful'], feature['funny'], feature['cool'],elite_period, friends_count]\n",
    "            final_feature_val = temp_feature + valid_user_feature\n",
    "            final_feature_dic[key_name] = final_feature_val\n",
    "        else:\n",
    "            name = feature['name']\n",
    "            address = feature['address']\n",
    "            city = feature['city']\n",
    "            state = feature['state']\n",
    "            postal_code = feature['postal_code']\n",
    "            stars = feature['stars']\n",
    "            review_count = feature['review_count']\n",
    "            attribures = feature['attributes']\n",
    "            categories = 'The business offers {}. '.format(feature['categories'])\n",
    "            current_address_information = 'The business {} located at {},{},{},{}. '.format(name, address,city,state, postal_code)\n",
    "            if attribures is not None:\n",
    "                attributes_information = attribute_analysis(attribures)\n",
    "            else:\n",
    "                attributes_information = ''\n",
    "            final_information = categories + current_address_information + attributes_information\n",
    "            final_feature_dic[key_name] = final_information\n",
    "    return final_feature_dic"
   ]
  },
  {
   "cell_type": "code",
   "execution_count": null,
   "id": "2f83bff8",
   "metadata": {},
   "outputs": [],
   "source": [
    "final_user_feature = feature_transformation(final_user_feature_dic)"
   ]
  },
  {
   "cell_type": "code",
   "execution_count": null,
   "id": "87b56e8f",
   "metadata": {},
   "outputs": [],
   "source": [
    "final_item_feature = feature_transformation(final_item_feature_dic)"
   ]
  },
  {
   "cell_type": "code",
   "execution_count": 74,
   "id": "52bf9eb0",
   "metadata": {},
   "outputs": [],
   "source": [
    "def ten_core_user_filter(edge_idex,final_user_feature,final_item_feature, edge_feature,core_threshould, user_limit):\n",
    "    new_edge_index = [[], []]\n",
    "    new_edge_feature = {}\n",
    "    new_user_feature = {}\n",
    "    new_item_feature = {}\n",
    "    user_count = 0\n",
    "    for key in tqdm(edge_idex.keys()):\n",
    "        current_neighbor = edge_idex[key]\n",
    "        if len(current_neighbor) >=core_threshould and len(current_neighbor) <=100 and user_count<=user_limit:\n",
    "            new_edge_index[0].extend([key for i in range(len(current_neighbor))])\n",
    "            new_user_feature[key] = final_user_feature[key]\n",
    "            user_count+=1\n",
    "            for neighbor in current_neighbor:\n",
    "                new_edge_index[1].append(neighbor)\n",
    "                new_edge_feature[str(key) + '|' + str(neighbor)] = edge_feature[str(key) + '|' + str(neighbor)]\n",
    "                new_item_feature[neighbor] = final_item_feature[neighbor]\n",
    "        else:\n",
    "            continue\n",
    "    return new_edge_feature,new_user_feature, new_item_feature, new_edge_index"
   ]
  },
  {
   "cell_type": "code",
   "execution_count": 75,
   "id": "4c4aaa8d",
   "metadata": {},
   "outputs": [
    {
     "name": "stderr",
     "output_type": "stream",
     "text": [
      "100%|█████████████████████████████████████████████████████████████████████| 2189457/2189457 [00:28<00:00, 77305.60it/s]\n"
     ]
    }
   ],
   "source": [
    "new_edge_feature,new_user_feature, new_item_feature, new_edge_index = ten_core_user_filter(edge_index,final_user_feature,final_item_feature, edge_feature,core_threshould=10, user_limit=10000)"
   ]
  },
  {
   "cell_type": "code",
   "execution_count": 76,
   "id": "fc521c22",
   "metadata": {},
   "outputs": [],
   "source": [
    "import torch\n",
    "from tqdm import tqdm\n",
    "from torch.utils.data import Dataset, DataLoader\n",
    "\n",
    "class Generate_dataset(Dataset):\n",
    "    def __init__(self, data,tokenizer,device, type):\n",
    "        self.data = data\n",
    "        self.device = device\n",
    "        self.tokenizer = tokenizer\n",
    "        self.type = type\n",
    "    def __len__(self):\n",
    "        return len(self.data)\n",
    "\n",
    "    def __getitem__(self, idx):\n",
    "        if torch.is_tensor(idx):\n",
    "            idx = idx.tolist()\n",
    "        if self.type == 'list':\n",
    "            content = self.data[idx]\n",
    "        elif self.type == 'dataframe':\n",
    "            content = self.data.iloc[idx][0]\n",
    "        content_encoded_input = self.tokenizer(content, padding='max_length', truncation=True,\n",
    "                                               max_length=256)\n",
    "        input_ids = torch.tensor(content_encoded_input['input_ids']).to(self.device)\n",
    "        attention_mask = torch.tensor(content_encoded_input['attention_mask']).to(self.device)\n",
    "        sample = {'input_ids': input_ids, 'attention_mask': attention_mask}\n",
    "        return sample\n",
    "\n",
    "\n",
    "class Sentence_encoding():\n",
    "    \n",
    "    def __init__(self, model, tokenizer,device):\n",
    "        self.model = model\n",
    "        self.tokenizer = tokenizer\n",
    "        self.device = device \n",
    "    #Mean Pooling - Take attention mask into account for correct averaging\n",
    "    def mean_pooling(self,model_output, attention_mask):\n",
    "        token_embeddings = model_output[0] #First element of model_output contains all token embeddings\n",
    "        input_mask_expanded = attention_mask.unsqueeze(-1).expand(token_embeddings.size()).float()\n",
    "        sum_embeddings = torch.sum(token_embeddings * input_mask_expanded, 1)\n",
    "        sum_mask = torch.clamp(input_mask_expanded.sum(1), min=1e-9)\n",
    "        return sum_embeddings / sum_mask\n",
    "\n",
    "    def encode(self, final_content, batch_size, type):\n",
    "        dataset = Generate_dataset(final_content, self.tokenizer, self.device, type)\n",
    "        dataloader = DataLoader(dataset, batch_size=batch_size, shuffle=False)\n",
    "        if type == 'list':\n",
    "            outputs = []\n",
    "            self.model.eval()\n",
    "            with torch.no_grad():\n",
    "                for data in tqdm(dataloader):\n",
    "                    model_output = self.model(input_ids=data['input_ids'], attention_mask=data['attention_mask'])\n",
    "                    sentence_embeddings = self.mean_pooling(model_output, data['attention_mask'])\n",
    "                    outputs.append(sentence_embeddings)\n",
    "            return torch.cat(outputs, dim=0)\n",
    "        elif type == 'dataframe':\n",
    "            outputs = {}\n",
    "            temp_index = 0\n",
    "            for data in tqdm(dataloader):\n",
    "                with torch.no_grad():\n",
    "                    model_output = self.model(input_ids=data['input_ids'], attention_mask=data['attention_mask'])\n",
    "                    sentence_embeddings = self.mean_pooling(model_output, data['attention_mask'])\n",
    "                    for index, i in enumerate(sentence_embeddings):\n",
    "                        final_index = temp_index + index\n",
    "                        outputs[final_content['News_ID'][final_index]] = sentence_embeddings[index].tolist()\n",
    "                    temp_index+=batch_size\n",
    "            return outputs"
   ]
  },
  {
   "cell_type": "code",
   "execution_count": 95,
   "id": "e3d3d6b2",
   "metadata": {},
   "outputs": [],
   "source": [
    "from transformers import AutoTokenizer, AutoModel\n",
    "if torch.cuda.is_available():\n",
    "    device = torch.device('cuda:0')\n",
    "    torch.backends.cudnn.deterministic = True\n",
    "    torch.backends.cudnn.benchmark = False\n",
    "else:\n",
    "    device = torch.device('cpu')"
   ]
  },
  {
   "cell_type": "code",
   "execution_count": 96,
   "id": "5f694bb3",
   "metadata": {},
   "outputs": [],
   "source": [
    "model_name = \"sentence-transformers/distilbert-base-nli-mean-tokens\"\n",
    "tokenizer = AutoTokenizer.from_pretrained(model_name)\n",
    "model = AutoModel.from_pretrained(model_name).to(device) "
   ]
  },
  {
   "cell_type": "code",
   "execution_count": 97,
   "id": "a45d5350",
   "metadata": {},
   "outputs": [
    {
     "data": {
      "text/plain": [
       "DistilBertModel(\n",
       "  (embeddings): Embeddings(\n",
       "    (word_embeddings): Embedding(30522, 768, padding_idx=0)\n",
       "    (position_embeddings): Embedding(512, 768)\n",
       "    (LayerNorm): LayerNorm((768,), eps=1e-12, elementwise_affine=True)\n",
       "    (dropout): Dropout(p=0.1, inplace=False)\n",
       "  )\n",
       "  (transformer): Transformer(\n",
       "    (layer): ModuleList(\n",
       "      (0): TransformerBlock(\n",
       "        (attention): MultiHeadSelfAttention(\n",
       "          (dropout): Dropout(p=0.1, inplace=False)\n",
       "          (q_lin): Linear(in_features=768, out_features=768, bias=True)\n",
       "          (k_lin): Linear(in_features=768, out_features=768, bias=True)\n",
       "          (v_lin): Linear(in_features=768, out_features=768, bias=True)\n",
       "          (out_lin): Linear(in_features=768, out_features=768, bias=True)\n",
       "        )\n",
       "        (sa_layer_norm): LayerNorm((768,), eps=1e-12, elementwise_affine=True)\n",
       "        (ffn): FFN(\n",
       "          (dropout): Dropout(p=0.1, inplace=False)\n",
       "          (lin1): Linear(in_features=768, out_features=3072, bias=True)\n",
       "          (lin2): Linear(in_features=3072, out_features=768, bias=True)\n",
       "        )\n",
       "        (output_layer_norm): LayerNorm((768,), eps=1e-12, elementwise_affine=True)\n",
       "      )\n",
       "      (1): TransformerBlock(\n",
       "        (attention): MultiHeadSelfAttention(\n",
       "          (dropout): Dropout(p=0.1, inplace=False)\n",
       "          (q_lin): Linear(in_features=768, out_features=768, bias=True)\n",
       "          (k_lin): Linear(in_features=768, out_features=768, bias=True)\n",
       "          (v_lin): Linear(in_features=768, out_features=768, bias=True)\n",
       "          (out_lin): Linear(in_features=768, out_features=768, bias=True)\n",
       "        )\n",
       "        (sa_layer_norm): LayerNorm((768,), eps=1e-12, elementwise_affine=True)\n",
       "        (ffn): FFN(\n",
       "          (dropout): Dropout(p=0.1, inplace=False)\n",
       "          (lin1): Linear(in_features=768, out_features=3072, bias=True)\n",
       "          (lin2): Linear(in_features=3072, out_features=768, bias=True)\n",
       "        )\n",
       "        (output_layer_norm): LayerNorm((768,), eps=1e-12, elementwise_affine=True)\n",
       "      )\n",
       "      (2): TransformerBlock(\n",
       "        (attention): MultiHeadSelfAttention(\n",
       "          (dropout): Dropout(p=0.1, inplace=False)\n",
       "          (q_lin): Linear(in_features=768, out_features=768, bias=True)\n",
       "          (k_lin): Linear(in_features=768, out_features=768, bias=True)\n",
       "          (v_lin): Linear(in_features=768, out_features=768, bias=True)\n",
       "          (out_lin): Linear(in_features=768, out_features=768, bias=True)\n",
       "        )\n",
       "        (sa_layer_norm): LayerNorm((768,), eps=1e-12, elementwise_affine=True)\n",
       "        (ffn): FFN(\n",
       "          (dropout): Dropout(p=0.1, inplace=False)\n",
       "          (lin1): Linear(in_features=768, out_features=3072, bias=True)\n",
       "          (lin2): Linear(in_features=3072, out_features=768, bias=True)\n",
       "        )\n",
       "        (output_layer_norm): LayerNorm((768,), eps=1e-12, elementwise_affine=True)\n",
       "      )\n",
       "      (3): TransformerBlock(\n",
       "        (attention): MultiHeadSelfAttention(\n",
       "          (dropout): Dropout(p=0.1, inplace=False)\n",
       "          (q_lin): Linear(in_features=768, out_features=768, bias=True)\n",
       "          (k_lin): Linear(in_features=768, out_features=768, bias=True)\n",
       "          (v_lin): Linear(in_features=768, out_features=768, bias=True)\n",
       "          (out_lin): Linear(in_features=768, out_features=768, bias=True)\n",
       "        )\n",
       "        (sa_layer_norm): LayerNorm((768,), eps=1e-12, elementwise_affine=True)\n",
       "        (ffn): FFN(\n",
       "          (dropout): Dropout(p=0.1, inplace=False)\n",
       "          (lin1): Linear(in_features=768, out_features=3072, bias=True)\n",
       "          (lin2): Linear(in_features=3072, out_features=768, bias=True)\n",
       "        )\n",
       "        (output_layer_norm): LayerNorm((768,), eps=1e-12, elementwise_affine=True)\n",
       "      )\n",
       "      (4): TransformerBlock(\n",
       "        (attention): MultiHeadSelfAttention(\n",
       "          (dropout): Dropout(p=0.1, inplace=False)\n",
       "          (q_lin): Linear(in_features=768, out_features=768, bias=True)\n",
       "          (k_lin): Linear(in_features=768, out_features=768, bias=True)\n",
       "          (v_lin): Linear(in_features=768, out_features=768, bias=True)\n",
       "          (out_lin): Linear(in_features=768, out_features=768, bias=True)\n",
       "        )\n",
       "        (sa_layer_norm): LayerNorm((768,), eps=1e-12, elementwise_affine=True)\n",
       "        (ffn): FFN(\n",
       "          (dropout): Dropout(p=0.1, inplace=False)\n",
       "          (lin1): Linear(in_features=768, out_features=3072, bias=True)\n",
       "          (lin2): Linear(in_features=3072, out_features=768, bias=True)\n",
       "        )\n",
       "        (output_layer_norm): LayerNorm((768,), eps=1e-12, elementwise_affine=True)\n",
       "      )\n",
       "      (5): TransformerBlock(\n",
       "        (attention): MultiHeadSelfAttention(\n",
       "          (dropout): Dropout(p=0.1, inplace=False)\n",
       "          (q_lin): Linear(in_features=768, out_features=768, bias=True)\n",
       "          (k_lin): Linear(in_features=768, out_features=768, bias=True)\n",
       "          (v_lin): Linear(in_features=768, out_features=768, bias=True)\n",
       "          (out_lin): Linear(in_features=768, out_features=768, bias=True)\n",
       "        )\n",
       "        (sa_layer_norm): LayerNorm((768,), eps=1e-12, elementwise_affine=True)\n",
       "        (ffn): FFN(\n",
       "          (dropout): Dropout(p=0.1, inplace=False)\n",
       "          (lin1): Linear(in_features=768, out_features=3072, bias=True)\n",
       "          (lin2): Linear(in_features=3072, out_features=768, bias=True)\n",
       "        )\n",
       "        (output_layer_norm): LayerNorm((768,), eps=1e-12, elementwise_affine=True)\n",
       "      )\n",
       "    )\n",
       "  )\n",
       ")"
      ]
     },
     "execution_count": 97,
     "metadata": {},
     "output_type": "execute_result"
    }
   ],
   "source": [
    "model"
   ]
  },
  {
   "cell_type": "code",
   "execution_count": 78,
   "id": "fc78c7b4",
   "metadata": {},
   "outputs": [],
   "source": [
    "import os\n",
    "def load_embedding(embedding_path,all_item_feature, new_node_feature=None):\n",
    "    if os.path.isfile(embedding_path):\n",
    "        new_node_feature = []\n",
    "        print('File exist, load embedding from {}'.format(embedding_path))\n",
    "        with open(embedding_path, 'r',encoding='utf-8') as f:\n",
    "            all_data = f.readlines()\n",
    "            for line in tqdm(all_data):\n",
    "                new_node_feature.append([float(i) for i in line.split()])\n",
    "    else:\n",
    "        model_name = \"sentence-transformers/distilbert-base-nli-mean-tokens\"\n",
    "        tokenizer = AutoTokenizer.from_pretrained(model_name)\n",
    "        model = AutoModel.from_pretrained(model_name).to(device) \n",
    "        encoder = Sentence_encoding(model, tokenizer,device)\n",
    "        final_items_embedding = encoder.encode(all_item_feature,128,'list')\n",
    "        final_items_embedding = [i.tolist() for i in final_items_embedding]\n",
    "        new_node_feature = final_items_embedding\n",
    "        with open(embedding_path , 'w', encoding='utf-8') as f:\n",
    "            for i in tqdm(new_node_feature):\n",
    "                f.write(' '.join([str(value) for value in i]))\n",
    "                f.write('\\n')\n",
    "    return new_node_feature"
   ]
  },
  {
   "cell_type": "code",
   "execution_count": 79,
   "id": "2da4bb18",
   "metadata": {},
   "outputs": [],
   "source": [
    "item_embedding_path = 'Data/item_embedding.txt'\n",
    "all_item_feature = list(new_item_feature.values())"
   ]
  },
  {
   "cell_type": "code",
   "execution_count": 80,
   "id": "5f1eb59f",
   "metadata": {},
   "outputs": [],
   "source": [
    "def feature_padding(feature):\n",
    "    for index, i in enumerate(feature):\n",
    "        if len(i)<768:\n",
    "            feature[index] = i + [-1 for n in range(768-len(i))]\n",
    "    return feature"
   ]
  },
  {
   "cell_type": "code",
   "execution_count": 81,
   "id": "3eaee005",
   "metadata": {},
   "outputs": [
    {
     "name": "stdout",
     "output_type": "stream",
     "text": [
      "File exist, load embedding from Data/item_embedding.txt\n"
     ]
    },
    {
     "name": "stderr",
     "output_type": "stream",
     "text": [
      "100%|██████████████████████████████████████████████████████████████████████████| 76722/76722 [00:28<00:00, 2707.09it/s]\n"
     ]
    }
   ],
   "source": [
    "all_item_feature = load_embedding(item_embedding_path,all_item_feature)"
   ]
  },
  {
   "cell_type": "code",
   "execution_count": 82,
   "id": "7c133ad6",
   "metadata": {},
   "outputs": [],
   "source": [
    "all_user_feature = list(new_user_feature.values())\n",
    "all_user_feature = feature_padding(all_user_feature)\n",
    "for index, key in enumerate(new_user_feature.keys()):\n",
    "    new_user_feature[key] = all_user_feature[index]"
   ]
  },
  {
   "cell_type": "code",
   "execution_count": 83,
   "id": "6992fbb5",
   "metadata": {},
   "outputs": [],
   "source": [
    "for index, key in enumerate(new_item_feature.keys()):\n",
    "    new_item_feature[key] = all_item_feature[index]"
   ]
  },
  {
   "cell_type": "code",
   "execution_count": 84,
   "id": "df2d846f",
   "metadata": {},
   "outputs": [],
   "source": [
    "import numpy as np\n",
    "import scipy.sparse as sp\n",
    "def map_data(data):\n",
    "    uniq = list(set(data))\n",
    "    id_dict = {old: new for new, old in enumerate(sorted(uniq))}\n",
    "    data = np.array([id_dict[x] for x in data])\n",
    "    n = len(uniq)\n",
    "    return data, id_dict, n\n",
    "\n",
    "def feature_transform(edge_index, final_user_feature, final_item_feature, edge_feature):\n",
    "        u_nodes_ratings = edge_index[0]\n",
    "        v_nodes_ratings = edge_index[1]\n",
    "        ratings = []\n",
    "        timestamp = []\n",
    "        for index in range(len(u_nodes_ratings)):\n",
    "            ratings.append(edge_feature[u_nodes_ratings[index]+ '|' +v_nodes_ratings[index]]['rate'])\n",
    "            timestamp.append(edge_feature[u_nodes_ratings[index]+ '|' +v_nodes_ratings[index]]['date'])\n",
    "        \n",
    "        u_nodes_ratings, u_dict, num_users = map_data(u_nodes_ratings)\n",
    "        v_nodes_ratings, v_dict, num_items = map_data(v_nodes_ratings)\n",
    "        u_nodes_ratings, v_nodes_ratings = u_nodes_ratings.astype(np.int64), v_nodes_ratings.astype(np.int32)\n",
    "        ratings = np.array(ratings).astype(np.float64)\n",
    "\n",
    "        u_features = np.zeros((num_users, 768), dtype=np.float32)\n",
    "        v_features = np.zeros((num_items, 768), dtype=np.float32)\n",
    "        for key in u_dict.keys():\n",
    "            u_features[u_dict[key]] = final_user_feature[key]\n",
    "            \n",
    "        for key in v_dict.keys():\n",
    "            v_features[v_dict[key]] = final_item_feature[key]        \n",
    "        \n",
    "        u_features = sp.csr_matrix(u_features)\n",
    "        v_features = sp.csr_matrix(v_features)\n",
    "\n",
    "        return num_users, num_items, u_nodes_ratings, v_nodes_ratings, ratings,timestamp,u_features, v_features, u_dict,v_dict"
   ]
  },
  {
   "cell_type": "code",
   "execution_count": 85,
   "id": "3f6e191f",
   "metadata": {},
   "outputs": [],
   "source": [
    "num_users, num_items, u_nodes_ratings, v_nodes_ratings, ratings, timestamp,u_features, v_features,u_dict,v_dict = feature_transform(new_edge_index, new_user_feature, new_item_feature, new_edge_feature)"
   ]
  },
  {
   "cell_type": "code",
   "execution_count": 87,
   "id": "d9ca3879",
   "metadata": {},
   "outputs": [],
   "source": [
    "json.dump(new_item_feature, open( \"Data/new_item_feature.json\", 'w' ))"
   ]
  },
  {
   "cell_type": "code",
   "execution_count": 51,
   "id": "09a6ea77",
   "metadata": {},
   "outputs": [],
   "source": [
    "import time\n",
    "from datetime import datetime\n",
    "all_time = []\n",
    "for i in timestamp:\n",
    "    datetime_object = datetime.strptime(i, '%Y-%m-%d %H:%M:%S')\n",
    "    all_time.append(time.mktime(datetime_object.timetuple()))\n",
    "# sorted_unique = sorted(set(all_time))\n",
    "# ordinal_map = {val: i for i, val in enumerate(sorted_unique, 1)}\n",
    "# all_time_sequence = [ordinal_map[i] for i in all_time]"
   ]
  },
  {
   "cell_type": "code",
   "execution_count": 214,
   "id": "db35743d",
   "metadata": {},
   "outputs": [],
   "source": [
    "max_val = max(all_time)\n",
    "final_time = [i/max_val-0.1 for i in all_time]"
   ]
  },
  {
   "cell_type": "code",
   "execution_count": 215,
   "id": "6af83052",
   "metadata": {},
   "outputs": [],
   "source": [
    "import json\n",
    "json.dump(u_dict, open( \"Data/u_dict.json\", 'w' ))\n",
    "json.dump(v_dict, open( \"Data/v_dict.json\", 'w' ))"
   ]
  },
  {
   "cell_type": "code",
   "execution_count": 216,
   "id": "1bb5028d",
   "metadata": {},
   "outputs": [],
   "source": [
    "datasplit_path = 'Data/final_data_new'"
   ]
  },
  {
   "cell_type": "code",
   "execution_count": 217,
   "id": "f3562ec9",
   "metadata": {},
   "outputs": [],
   "source": [
    "import pickle as pkl\n",
    "with open(datasplit_path, 'wb') as f:\n",
    "    pkl.dump([num_users, num_items, u_nodes_ratings, v_nodes_ratings, ratings,final_time, u_features, v_features], f)"
   ]
  },
  {
   "cell_type": "markdown",
   "id": "c1c25566",
   "metadata": {},
   "source": [
    "## Start from here"
   ]
  },
  {
   "cell_type": "code",
   "execution_count": 1,
   "id": "e96195a0",
   "metadata": {},
   "outputs": [],
   "source": [
    "datasplit_path = 'Data/final_data_new'"
   ]
  },
  {
   "cell_type": "code",
   "execution_count": 2,
   "id": "002e15cc",
   "metadata": {},
   "outputs": [],
   "source": [
    "import random\n",
    "def create_trainvaltest_split(datasplit_path,ratio=1.0, hop=1, sample_ratio=1.0, max_nodes_per_hop=100):\n",
    "    if os.path.isfile(datasplit_path):\n",
    "        print('Reading processed dataset from file...')\n",
    "        with open(datasplit_path, 'rb') as f:\n",
    "            num_users, num_items, u_nodes, v_nodes, ratings,timestamp, u_features, v_features = pkl.load(f)\n",
    "\n",
    "        print('Number of users = %d' % num_users)\n",
    "        print('Number of items = %d' % num_items)\n",
    "        print('Number of links = %d' % ratings.shape[0])\n",
    "        print('Fraction of positive links = %.4f' % (float(ratings.shape[0]) / (num_users * num_items),))\n",
    "\n",
    "\n",
    "    rating_dict = {r: i for i, r in enumerate(np.sort(np.unique(ratings)).tolist())}\n",
    "    print(\"Using random dataset split ...\")\n",
    "    num_test = int(np.ceil(ratings.shape[0] * 0.1))\n",
    "    num_val = int(np.ceil(ratings.shape[0] * 0.9 * 0.05))\n",
    "    num_train = ratings.shape[0] - num_val - num_test\n",
    "\n",
    "    pairs_nonzero = np.vstack([u_nodes, v_nodes]).transpose()\n",
    "\n",
    "    train_pairs_idx = pairs_nonzero[0:int(num_train*ratio)]\n",
    "    val_pairs_idx = pairs_nonzero[num_train:num_train + num_val]\n",
    "    test_pairs_idx = pairs_nonzero[num_train + num_val:]\n",
    "\n",
    "    u_test_idx, v_test_idx = test_pairs_idx.transpose()\n",
    "    u_val_idx, v_val_idx = val_pairs_idx.transpose()\n",
    "    u_train_idx, v_train_idx = train_pairs_idx.transpose()\n",
    "\n",
    "    # create labels\n",
    "    all_labels = np.array([rating_dict[r] for r in ratings], dtype=np.int32)\n",
    "    \n",
    "    train_labels = all_labels[0:int(num_train*ratio)]\n",
    "    val_labels = all_labels[num_train:num_train + num_val]\n",
    "    test_labels = all_labels[num_train + num_val:]\n",
    "    \n",
    "    train_time = timestamp[0:int(num_train*ratio)]\n",
    "    val_time =timestamp[num_train:num_train + num_val]\n",
    "    test_time = timestamp[num_train + num_val:]\n",
    "    \n",
    "    \n",
    "    class_values = np.sort(np.unique(ratings))\n",
    "\n",
    "    # make training adjacency matrix\n",
    "\n",
    "    data_train = train_labels + 1.\n",
    "    data_train = np.array([i + train_time[index] for index, i in enumerate(data_train)])\n",
    "    data_train = data_train.astype(np.float32)\n",
    "    data_test = test_labels + 1.\n",
    "    \n",
    "    data_test = np.array([i + test_time[index] for index, i in enumerate(data_test)])\n",
    "    data_test = data_test.astype(np.float32)\n",
    "    \n",
    "    data_val = val_labels + 1.\n",
    "    data_val = np.array([i + val_time[index] for index, i in enumerate(data_val)])\n",
    "    data_val = data_val.astype(np.float32)\n",
    "    \n",
    "\n",
    "    \n",
    "    rating_mx_train = sp.csr_matrix((data_train, [u_train_idx, v_train_idx]), \n",
    "                                    shape=[num_users, num_items], dtype=np.float32)\n",
    "    \n",
    "    rating_mx_test = sp.csr_matrix((data_test, [u_test_idx, v_test_idx]), \n",
    "                                    shape=[num_users, num_items], dtype=np.float32)\n",
    "    \n",
    "    rating_mx_val = sp.csr_matrix((data_val, [u_val_idx, v_val_idx]), \n",
    "                                    shape=[num_users, num_items], dtype=np.float32)\n",
    "    \n",
    "    \n",
    "    \n",
    "    u_features, v_features = u_features.toarray(), v_features.toarray()\n",
    "    n_features = u_features.shape[1] + v_features.shape[1]\n",
    "    print('Number of user features {}, item features {}, total features {}'.format(\n",
    "        u_features.shape[1], v_features.shape[1], n_features))\n",
    "    \n",
    "    u_features, v_features, adj_train, train_labels, train_u_indices, train_v_indices, val_labels, val_u_indices, val_v_indices, test_labels, test_u_indices, test_v_indices, class_values = u_features, v_features, rating_mx_train, train_labels, u_train_idx, v_train_idx, val_labels, u_val_idx, v_val_idx, test_labels, u_test_idx, v_test_idx, class_values\n",
    "    \n",
    "    train_indices = (train_u_indices, train_v_indices)\n",
    "    val_indices = (val_u_indices, val_v_indices)\n",
    "    test_indices = (test_u_indices, test_v_indices)\n",
    "    print('#train: %d, #val: %d, #test: %d' % (\n",
    "        len(train_u_indices), \n",
    "        len(val_u_indices), \n",
    "        len(test_u_indices), \n",
    "    ))\n",
    "    \n",
    "    \n",
    "    train_graphs = MyDynamicDataset(\n",
    "        'Data',\n",
    "        adj_train, \n",
    "        train_indices, \n",
    "        train_labels, \n",
    "        hop, \n",
    "        sample_ratio, \n",
    "        max_nodes_per_hop, \n",
    "        u_features, \n",
    "        v_features, \n",
    "        class_values, \n",
    "    )\n",
    "    \n",
    "\n",
    "    test_graphs = MyDynamicDataset(\n",
    "        'Data',\n",
    "        rating_mx_test, \n",
    "        test_indices, \n",
    "        test_labels, \n",
    "        hop, \n",
    "        sample_ratio, \n",
    "        max_nodes_per_hop, \n",
    "        u_features, \n",
    "        v_features, \n",
    "        class_values, \n",
    "    )\n",
    "\n",
    "\n",
    "    val_graphs = MyDynamicDataset(\n",
    "        'Data',\n",
    "        rating_mx_val, \n",
    "        val_indices, \n",
    "        val_labels, \n",
    "        hop, \n",
    "        sample_ratio, \n",
    "        max_nodes_per_hop, \n",
    "        u_features, \n",
    "        v_features, \n",
    "        class_values, \n",
    "    )\n",
    "    return train_graphs, val_graphs, test_graphs,class_values"
   ]
  },
  {
   "cell_type": "code",
   "execution_count": 85,
   "id": "1353633b",
   "metadata": {},
   "outputs": [],
   "source": [
    "def subgraph_extraction_labeling(ind, Arow, Acol, h=1, sample_ratio=1.0, max_nodes_per_hop=None, \n",
    "                                 u_features=None, v_features=None, class_values=None, \n",
    "                                 y=1):\n",
    "    # extract the h-hop enclosing subgraph around link 'ind'\n",
    "    i,j = ind[0], ind[1]\n",
    "    u_nodes, v_nodes = [ind[0]], [ind[1]]\n",
    "    u_dist, v_dist = [0], [0]\n",
    "    u_visited, v_visited = set([ind[0]]), set([ind[1]])\n",
    "    u_fringe, v_fringe = set([ind[0]]), set([ind[1]])\n",
    "    \n",
    "    for dist in range(1, h+1):\n",
    "        v_fringe = neighbors(u_fringe, Arow)\n",
    "        u_fringe = neighbors(v_fringe, Acol)\n",
    "        \n",
    "        u_fringe = u_fringe - u_visited\n",
    "        v_fringe = v_fringe - v_visited\n",
    "        u_visited = u_visited.union(u_fringe)\n",
    "        v_visited = v_visited.union(v_fringe)\n",
    "        if sample_ratio < 1.0:\n",
    "            u_fringe = random.sample(u_fringe, int(sample_ratio*len(u_fringe)))\n",
    "            v_fringe = random.sample(v_fringe, int(sample_ratio*len(v_fringe)))\n",
    "        if max_nodes_per_hop is not None:\n",
    "            if max_nodes_per_hop < len(u_fringe):\n",
    "                u_fringe = random.sample(u_fringe, max_nodes_per_hop)\n",
    "            if max_nodes_per_hop < len(v_fringe):\n",
    "                v_fringe = random.sample(v_fringe, max_nodes_per_hop)\n",
    "        if len(u_fringe) == 0 and len(v_fringe) == 0:\n",
    "            break\n",
    "        u_nodes = u_nodes + list(u_fringe)\n",
    "        v_nodes = v_nodes + list(v_fringe)\n",
    "        u_dist = u_dist + [dist] * len(u_fringe)\n",
    "        v_dist = v_dist + [dist] * len(v_fringe)\n",
    "    subgraph = Arow[u_nodes][:, v_nodes]\n",
    "    # remove link between target nodes\n",
    "    subgraph[0, 0] = 0\n",
    "    # prepare pyg graph constructor input\n",
    "    \n",
    "    u, v, r = ssp.find(subgraph)  # r is 1, 2... (rating labels + 1)\n",
    "    v += len(u_nodes)\n",
    "    r = r - 1  # transform r back to rating label\n",
    "\n",
    "    num_nodes = len(u_nodes) + len(v_nodes)\n",
    "    node_labels = [x*2 for x in u_dist] + [x*2+1 for x in v_dist]\n",
    "    max_node_label = 2*h + 1\n",
    "    y = class_values[y]\n",
    "    \n",
    "    # get node features\n",
    "    if u_features is not None:\n",
    "        u_features = u_features[u_nodes]\n",
    "    if v_features is not None:\n",
    "        v_features = v_features[v_nodes]\n",
    "    \n",
    "    node_features = [u_features, v_features] \n",
    "      \n",
    "    return i,j,u, v, r, node_labels, max_node_label, y, node_features"
   ]
  },
  {
   "cell_type": "code",
   "execution_count": 86,
   "id": "ee5c0488",
   "metadata": {},
   "outputs": [],
   "source": [
    "from torch_geometric.data import Data,Dataset\n",
    "import pickle as pkl\n",
    "import os\n",
    "import scipy.sparse as sp\n",
    "import numpy as np\n",
    "import scipy.io as sio\n",
    "import scipy.sparse as ssp\n",
    "import torch\n",
    "\n",
    "def neighbors(fringe, A):\n",
    "    # find all 1-hop neighbors of nodes in fringe from A\n",
    "    if not fringe:\n",
    "        return set([])\n",
    "    return set(A[list(fringe)].indices)\n",
    "\n",
    "\n",
    "def one_hot(idx, length):\n",
    "    idx = np.array(idx)\n",
    "    x = np.zeros([len(idx), length])\n",
    "    x[np.arange(len(idx)), idx] = 1.0\n",
    "    return x\n",
    "\n",
    "\n",
    "class SparseRowIndexer:\n",
    "    def __init__(self, csr_matrix):\n",
    "        data = []\n",
    "        indices = []\n",
    "        indptr = []\n",
    "\n",
    "        for row_start, row_end in zip(csr_matrix.indptr[:-1], csr_matrix.indptr[1:]):\n",
    "            data.append(csr_matrix.data[row_start:row_end])\n",
    "            indices.append(csr_matrix.indices[row_start:row_end])\n",
    "            indptr.append(row_end - row_start)  # nnz of the row\n",
    "\n",
    "        self.data = np.array(data, dtype=object)\n",
    "        self.indices = np.array(indices, dtype=object)\n",
    "        self.indptr = np.array(indptr, dtype=object)\n",
    "        self.shape = csr_matrix.shape\n",
    "\n",
    "    def __getitem__(self, row_selector):\n",
    "        indices = np.concatenate(self.indices[row_selector])\n",
    "        data = np.concatenate(self.data[row_selector])\n",
    "        indptr = np.append(0, np.cumsum(self.indptr[row_selector]))\n",
    "        shape = [indptr.shape[0] - 1, self.shape[1]]\n",
    "        return ssp.csr_matrix((data, indices, indptr), shape=shape)\n",
    "\n",
    "\n",
    "class SparseColIndexer:\n",
    "    def __init__(self, csc_matrix):\n",
    "        data = []\n",
    "        indices = []\n",
    "        indptr = []\n",
    "\n",
    "        for col_start, col_end in zip(csc_matrix.indptr[:-1], csc_matrix.indptr[1:]):\n",
    "            data.append(csc_matrix.data[col_start:col_end])\n",
    "            indices.append(csc_matrix.indices[col_start:col_end])\n",
    "            indptr.append(col_end - col_start)\n",
    "\n",
    "        self.data = np.array(data, dtype=object)\n",
    "        self.indices = np.array(indices, dtype=object)\n",
    "        self.indptr = np.array(indptr, dtype=object)\n",
    "        self.shape = csc_matrix.shape\n",
    "\n",
    "    def __getitem__(self, col_selector):\n",
    "        indices = np.concatenate(self.indices[col_selector])\n",
    "        data = np.concatenate(self.data[col_selector])\n",
    "        indptr = np.append(0, np.cumsum(self.indptr[col_selector]))\n",
    "\n",
    "        shape = [self.shape[0], indptr.shape[0] - 1]\n",
    "        return ssp.csc_matrix((data, indices, indptr), shape=shape)\n",
    "\n",
    "class MyDynamicDataset(Dataset):\n",
    "    def __init__(self, root, A, links, labels, h, sample_ratio, max_nodes_per_hop, \n",
    "                 u_features, v_features, class_values, max_num=None):\n",
    "        super(MyDynamicDataset, self).__init__(root)\n",
    "        self.Arow = SparseRowIndexer(A)\n",
    "        self.Acol = SparseColIndexer(A.tocsc())\n",
    "        self.links = links                           \n",
    "        self.labels = labels\n",
    "        self.h = h\n",
    "        self.sample_ratio = sample_ratio\n",
    "        self.max_nodes_per_hop = max_nodes_per_hop\n",
    "        self.u_features = u_features\n",
    "        self.v_features = v_features\n",
    "        self.class_values = class_values\n",
    "        if max_num is not None:\n",
    "            np.random.seed(123)\n",
    "            num_links = len(links[0])\n",
    "            perm = np.random.permutation(num_links)\n",
    "            perm = perm[:max_num]\n",
    "            self.links = (links[0][perm], links[1][perm])\n",
    "            self.labels = labels[perm]\n",
    "    def len(self):\n",
    "        return len(self.links[0])\n",
    "\n",
    "    def get(self, idx):\n",
    "        i, j = self.links[0][idx], self.links[1][idx]\n",
    "        g_label = self.labels[idx]\n",
    "        tmp = subgraph_extraction_labeling(\n",
    "            (i, j), self.Arow, self.Acol, self.h, self.sample_ratio, self.max_nodes_per_hop, \n",
    "            self.u_features, self.v_features, self.class_values, g_label\n",
    "        )\n",
    "        return construct_pyg_graph(*tmp)\n",
    "    \n",
    "    \n",
    "def construct_pyg_graph(i,j, u, v, r, node_labels, max_node_label, y, node_features):\n",
    "    u, v = torch.LongTensor(u), torch.LongTensor(v)\n",
    "    u_idx, v_idx = torch.LongTensor([i]), torch.LongTensor([j])\n",
    "    r = torch.FloatTensor(r)  \n",
    "    edge_index = torch.stack([torch.cat([u, v]), torch.cat([v, u])], 0)\n",
    "    edge_type = torch.cat([r, r]).tolist()\n",
    "    rate_val = torch.FloatTensor([int(i) for i in edge_type])\n",
    "    torch.set_printoptions(precision=21)\n",
    "    time_val = torch.FloatTensor([i%1 for i in edge_type])\n",
    "    x = torch.FloatTensor(one_hot(node_labels, max_node_label+1))\n",
    "    y = torch.FloatTensor([y])\n",
    "    u_feature, v_feature = node_features\n",
    "    u_feature_tensor = torch.FloatTensor(u_feature)\n",
    "    v_feature_tensor = torch.FloatTensor(v_feature)\n",
    "    data = Data(x, edge_index, edge_type=rate_val, y=y, user_index = u_idx, item_index = v_idx, time_val = time_val, \n",
    "                user_len = u_feature_tensor.shape[0], item_len = v_feature_tensor.shape[0])\n",
    "    data.side_feature = torch.cat([u_feature_tensor, v_feature_tensor], dim=0)\n",
    "\n",
    "    return data"
   ]
  },
  {
   "cell_type": "code",
   "execution_count": 87,
   "id": "044721b3",
   "metadata": {},
   "outputs": [
    {
     "name": "stdout",
     "output_type": "stream",
     "text": [
      "Reading processed dataset from file...\n",
      "Number of users = 10001\n",
      "Number of items = 76722\n",
      "Number of links = 316643\n",
      "Fraction of positive links = 0.0004\n",
      "Using random dataset split ...\n",
      "Number of user features 768, item features 768, total features 1536\n",
      "#train: 270729, #val: 14249, #test: 31665\n"
     ]
    }
   ],
   "source": [
    "train_graphs, val_graphs, test_graphs,class_values = create_trainvaltest_split(datasplit_path)"
   ]
  },
  {
   "cell_type": "code",
   "execution_count": 71,
   "id": "bca19ce9",
   "metadata": {},
   "outputs": [
    {
     "name": "stderr",
     "output_type": "stream",
     "text": [
      "C:\\Users\\yli62\\AppData\\Local\\Temp/ipykernel_2644/1334874663.py:24: DeprecationWarning: Sampling from a set deprecated\n",
      "since Python 3.9 and will be removed in a subsequent version.\n",
      "  u_fringe = random.sample(u_fringe, max_nodes_per_hop)\n"
     ]
    }
   ],
   "source": [
    "import networkx as nx\n",
    "import torch_geometric\n",
    "sample = train_graphs[4]\n",
    "G = torch_geometric.utils.to_networkx(sample, to_undirected=True)"
   ]
  },
  {
   "cell_type": "code",
   "execution_count": 94,
   "id": "ad4bb011",
   "metadata": {},
   "outputs": [
    {
     "name": "stderr",
     "output_type": "stream",
     "text": [
      "*c* argument looks like a single numeric RGB or RGBA sequence, which should be avoided as value-mapping will have precedence in case its length matches with *x* & *y*.  Please use the *color* keyword-argument or provide a 2D array with a single row if you intend to specify the same RGB or RGBA value for all points.\n",
      "*c* argument looks like a single numeric RGB or RGBA sequence, which should be avoided as value-mapping will have precedence in case its length matches with *x* & *y*.  Please use the *color* keyword-argument or provide a 2D array with a single row if you intend to specify the same RGB or RGBA value for all points.\n"
     ]
    },
    {
     "data": {
      "image/png": "[encoded data removed]",
      "text/plain": [
       "<Figure size 1728x1152 with 1 Axes>"
      ]
     },
     "metadata": {},
     "output_type": "display_data"
    }
   ],
   "source": [
    "import matplotlib.pyplot as plt\n",
    "\n",
    "def color_rgb(tmp):\n",
    "    tmp = list(tmp)\n",
    "    for key, i in enumerate(tmp):\n",
    "        tmp[key] = i/255\n",
    "    return tuple(tmp)\n",
    "\n",
    "plt.figure(3,figsize=(24,16)) \n",
    "\n",
    "user_node = [i for i in range(sample.user_len)]\n",
    "item_node = [i for i in range(sample.user_len, sample.user_len + sample.item_len)]\n",
    "\n",
    "\n",
    "pos = nx.spring_layout(G) \n",
    "\n",
    "nx.draw_networkx_nodes(G, pos=pos, nodelist=user_node,\n",
    "                       node_color=color_rgb((27,161,226)), label='User')\n",
    "nx.draw_networkx_nodes(G, pos=pos, nodelist=item_node,\n",
    "                       node_color=color_rgb((250,104,0)), label='Business')\n",
    "\n",
    "\n",
    "nx.draw_networkx_edges(G, pos=pos)\n",
    "plt.legend(scatterpoints = 1,fontsize=20)\n",
    "plt.show()"
   ]
  },
  {
   "cell_type": "code",
   "execution_count": 6,
   "id": "f9a8195e",
   "metadata": {},
   "outputs": [
    {
     "name": "stdout",
     "output_type": "stream",
     "text": [
      "Used #train graphs: 270729, #test graphs: 31665\n"
     ]
    }
   ],
   "source": [
    "print('Used #train graphs: %d, #test graphs: %d' % (\n",
    "    len(train_graphs), \n",
    "    len(test_graphs), \n",
    "))"
   ]
  },
  {
   "cell_type": "code",
   "execution_count": 7,
   "id": "7eaa7c78",
   "metadata": {},
   "outputs": [],
   "source": [
    "import torch\n",
    "import math\n",
    "import torch.nn as nn\n",
    "import numpy as np\n",
    "import torch.nn.functional as F\n",
    "from torch.nn import Linear, Conv1d\n",
    "from torch_geometric.nn import GCNConv, RGCNConv, global_sort_pool, global_add_pool\n",
    "from torch_geometric.utils import dropout_adj"
   ]
  },
  {
   "cell_type": "code",
   "execution_count": 8,
   "id": "0a445761",
   "metadata": {},
   "outputs": [],
   "source": [
    "def scaled_dot_product(q, k, v, mask=None):\n",
    "    d_k = q.size()[-1]\n",
    "    attn_logits = torch.matmul(q, k.transpose(-2, -1))\n",
    "    attn_logits = attn_logits / math.sqrt(d_k)\n",
    "    if mask is not None:\n",
    "        attn_logits = attn_logits.masked_fill(attn_logits == 0, -9e15)\n",
    "    attention = F.softmax(attn_logits, dim=-1)\n",
    "    values = torch.matmul(attention, v)\n",
    "    return values, attention\n",
    "\n",
    "\n",
    "class MultiheadAttention(nn.Module):\n",
    "\n",
    "    def __init__(self, input_dim, embed_dim, num_heads):\n",
    "        super().__init__()\n",
    "        assert embed_dim % num_heads == 0, \"Embedding dimension must be 0 modulo number of heads.\"\n",
    "\n",
    "        self.embed_dim = embed_dim\n",
    "        self.num_heads = num_heads\n",
    "        self.head_dim = embed_dim // num_heads\n",
    "\n",
    "        # Stack all weight matrices 1...h together for efficiency\n",
    "        # Note that in many implementations you see \"bias=False\" which is optional\n",
    "        self.qkv_proj = nn.Linear(input_dim, 3*embed_dim)\n",
    "        self.o_proj = nn.Linear(embed_dim, embed_dim)\n",
    "\n",
    "        self._reset_parameters()\n",
    "\n",
    "    def _reset_parameters(self):\n",
    "        # Original Transformer initialization, see PyTorch documentation\n",
    "        nn.init.xavier_uniform_(self.qkv_proj.weight)\n",
    "        self.qkv_proj.bias.data.fill_(0)\n",
    "        nn.init.xavier_uniform_(self.o_proj.weight)\n",
    "        self.o_proj.bias.data.fill_(0)\n",
    "\n",
    "    def forward(self, x, mask=None, return_attention=False):\n",
    "        batch_size, seq_length, embed_dim = x.size()\n",
    "        qkv = self.qkv_proj(x)\n",
    "\n",
    "        # Separate Q, K, V from linear output\n",
    "        qkv = qkv.reshape(batch_size, seq_length, self.num_heads, 3*self.head_dim)\n",
    "        qkv = qkv.permute(0, 2, 1, 3) # [Batch, Head, SeqLen, Dims]\n",
    "        q, k, v = qkv.chunk(3, dim=-1)\n",
    "\n",
    "        # Determine value outputs\n",
    "        values, attention = scaled_dot_product(q, k, v, mask=mask)\n",
    "        values = values.permute(0, 2, 1, 3) # [Batch, SeqLen, Head, Dims]\n",
    "        values = values.reshape(batch_size, seq_length, embed_dim)\n",
    "        o = self.o_proj(values)\n",
    "\n",
    "        if return_attention:\n",
    "            return o, attention\n",
    "        else:\n",
    "            return o"
   ]
  },
  {
   "cell_type": "code",
   "execution_count": 9,
   "id": "86da821e",
   "metadata": {},
   "outputs": [],
   "source": [
    "class EncoderBlock(nn.Module):\n",
    "\n",
    "    def __init__(self, input_dim, num_heads, dim_feedforward, dropout=0.3):\n",
    "        \"\"\"\n",
    "        Inputs:\n",
    "            input_dim - Dimensionality of the input\n",
    "            num_heads - Number of heads to use in the attention block\n",
    "            dim_feedforward - Dimensionality of the hidden layer in the MLP\n",
    "            dropout - Dropout probability to use in the dropout layers\n",
    "        \"\"\"\n",
    "        super().__init__()\n",
    "\n",
    "        # Attention layer\n",
    "        self.self_attn = MultiheadAttention(input_dim, input_dim, num_heads)\n",
    "\n",
    "        # Two-layer MLP\n",
    "        self.linear_net = nn.Sequential(\n",
    "            nn.Linear(input_dim, dim_feedforward),\n",
    "            nn.Dropout(dropout),\n",
    "            nn.ReLU(inplace=True),\n",
    "            nn.Linear(dim_feedforward, input_dim)\n",
    "        )\n",
    "\n",
    "        # Layers to apply in between the main layers\n",
    "        self.norm1 = nn.LayerNorm(input_dim)\n",
    "        self.norm2 = nn.LayerNorm(input_dim)\n",
    "        self.dropout = nn.Dropout(dropout)\n",
    "\n",
    "    def forward(self, x, mask=None):\n",
    "        # Attention part\n",
    "        attn_out = self.self_attn(x, mask=mask)\n",
    "        x = x + self.dropout(attn_out)\n",
    "        x = self.norm1(x)\n",
    "\n",
    "        # MLP part\n",
    "        linear_out = self.linear_net(x)\n",
    "        x = x + self.dropout(linear_out)\n",
    "        x = self.norm2(x)\n",
    "\n",
    "        return x"
   ]
  },
  {
   "cell_type": "code",
   "execution_count": 10,
   "id": "f5f5af56",
   "metadata": {},
   "outputs": [],
   "source": [
    "class PositionalEncoding(nn.Module):\n",
    "\n",
    "    def __init__(self, d_model, max_len=5000):\n",
    "        \"\"\"\n",
    "        Inputs\n",
    "            d_model - Hidden dimensionality of the input.\n",
    "            max_len - Maximum length of a sequence to expect.\n",
    "        \"\"\"\n",
    "        super().__init__()\n",
    "\n",
    "        # Create matrix of [SeqLen, HiddenDim] representing the positional encoding for max_len inputs\n",
    "        pe = torch.zeros(max_len, d_model)\n",
    "        position = torch.arange(0, max_len, dtype=torch.float).unsqueeze(1)\n",
    "        div_term = torch.exp(torch.arange(0, d_model, 2).float() * (-math.log(10000.0) / d_model))\n",
    "        pe[:, 0::2] = torch.sin(position * div_term)\n",
    "        pe[:, 1::2] = torch.cos(position * div_term)\n",
    "        pe = pe.unsqueeze(0)\n",
    "\n",
    "        # register_buffer => Tensor which is not a parameter, but should be part of the modules state.\n",
    "        # Used for tensors that need to be on the same device as the module.\n",
    "        # persistent=False tells PyTorch to not add the buffer to the state dict (e.g. when we save the model)\n",
    "        self.register_buffer('pe', pe, persistent=False)\n",
    "\n",
    "    def forward(self, x):\n",
    "        x = x + self.pe[:, :x.size(1)]\n",
    "        return x"
   ]
  },
  {
   "cell_type": "code",
   "execution_count": 11,
   "id": "852bc4c8",
   "metadata": {},
   "outputs": [],
   "source": [
    "class LSTM_variable_input(torch.nn.Module):\n",
    "    def __init__(self, embedding_dim, hidden_dim):\n",
    "        super().__init__()\n",
    "        self.lstm1 = torch.nn.LSTM(embedding_dim, hidden_dim, batch_first=True)\n",
    "        self.dropout = torch.nn.Dropout(0.2)\n",
    "        self.Linear = torch.nn.Linear(hidden_dim, hidden_dim)\n",
    "    def forward(self, x, s):\n",
    "        x = self.dropout(x)\n",
    "        x_pack = torch.nn.utils.rnn.pack_padded_sequence(x, s, batch_first=True, enforce_sorted=False)\n",
    "        _, (ht, _) = self.lstm1(x_pack)\n",
    "        output = self.dropout(ht[-1])\n",
    "        output = torch.nn.LeakyReLU()(self.Linear(output))\n",
    "        return output"
   ]
  },
  {
   "cell_type": "code",
   "execution_count": 1,
   "id": "e46689a3",
   "metadata": {},
   "outputs": [
    {
     "data": {
      "text/plain": [
       "3200"
      ]
     },
     "execution_count": 1,
     "metadata": {},
     "output_type": "execute_result"
    }
   ],
   "source": [
    "4 * 32 + 32 * 32 * 3"
   ]
  },
  {
   "cell_type": "code",
   "execution_count": 12,
   "id": "11ccf8df",
   "metadata": {},
   "outputs": [],
   "source": [
    "class IGMC(torch.nn.Module):\n",
    "    # The GNN model of Inductive Graph-based Matrix Completion. \n",
    "    # Use RGCN convolution + center-nodes readout.\n",
    "    def __init__(self, dataset, device, gconv=RGCNConv, latent_dim=[32, 32, 32, 32], \n",
    "                 num_relations=5, num_bases=2, regression=False, adj_dropout=0.2, \n",
    "                 force_undirected=False, n_side_features=0, \n",
    "                 multiply_by=1, model_type = 'lstm', num_layers = None, num_heads = 8):\n",
    "        super(IGMC, self).__init__()\n",
    "        self.regression = regression\n",
    "        self.adj_dropout = adj_dropout \n",
    "        self.force_undirected = force_undirected\n",
    "        self.model_type = model_type\n",
    "        self.n_side_features = n_side_features\n",
    "        self.device = device\n",
    "        if model_type == 'lstm':\n",
    "            self.time_module = LSTM_variable_input(embedding_dim=n_side_features, hidden_dim=n_side_features)\n",
    "            \n",
    "        elif model_type == 'attention' and num_layers is not None:\n",
    "            input_dim = n_side_features\n",
    "            self.num_layers = num_layers\n",
    "            dim_feedforward = n_side_features\n",
    "\n",
    "            self.time_module = torch.nn.ModuleList([EncoderBlock(input_dim=input_dim, dim_feedforward=dim_feedforward, num_heads = num_heads) for _ in range(num_layers)])\n",
    "            \n",
    "        \n",
    "        self.multiply_by = multiply_by\n",
    "        self.convs = torch.nn.ModuleList()\n",
    "        self.convs.append(gconv(4, latent_dim[0], num_relations, num_bases))\n",
    "        for i in range(0, len(latent_dim)-1):\n",
    "            self.convs.append(gconv(latent_dim[i], latent_dim[i+1], num_relations, num_bases)) \n",
    "        \n",
    "        self.lin1 = Linear(2*sum(latent_dim)+n_side_features*2+19, n_side_features)\n",
    "        self.lin1_2 = Linear(n_side_features, 128)\n",
    "        \n",
    "        if self.regression:\n",
    "            self.lin2 = Linear(128, 1)\n",
    "        else:\n",
    "            self.lin2 = Linear(128, 5)\n",
    "            \n",
    "    def reset_parameters(self):\n",
    "        for conv in self.convs:\n",
    "            conv.reset_parameters()\n",
    "        self.lin1.reset_parameters()\n",
    "        self.lin2.reset_parameters()\n",
    "        \n",
    "    def forward(self, data):\n",
    "        x, edge_index, edge_type, batch, timestamp= data.x, data.edge_index, data.edge_type, data.batch, data.time_val\n",
    "        if self.adj_dropout > 0:\n",
    "            edge_index, edge_type = dropout_adj(\n",
    "                edge_index, edge_type, p=self.adj_dropout, \n",
    "                force_undirected=self.force_undirected, num_nodes=len(x), \n",
    "                training=self.training\n",
    "            )\n",
    "        \n",
    "        concat_states = []\n",
    "        for conv in self.convs:\n",
    "            x = torch.tanh(conv(x, edge_index, edge_type))\n",
    "            concat_states.append(x)\n",
    "    \n",
    "        concat_states = torch.cat(concat_states, 1)\n",
    "        users = data.x[:, 0] == 1\n",
    "        items = data.x[:, 1] == 1\n",
    "        \n",
    "        user_index = users.nonzero(as_tuple=True)[0]\n",
    "\n",
    "        final_feature = data.side_feature\n",
    "        Item_list_all = []\n",
    "        len_all = []\n",
    "        for user in user_index:\n",
    "            current_item_idx= (edge_index[0] == user).nonzero(as_tuple=True)[0]\n",
    "            current_item = torch.index_select(edge_index[1],0, current_item_idx)\n",
    "            if current_item_idx.shape[0] == 0:\n",
    "                print('exception occur')\n",
    "                current_item_idx = (edge_index[1] == user).nonzero(as_tuple=True)[0]\n",
    "                current_item = torch.index_select(edge_index[0],0, current_item_idx)\n",
    "            current_time = torch.index_select(timestamp, 0, current_item_idx)\n",
    "            _, time_indices = torch.sort(current_time)\n",
    "            temp_dic = dict(zip(time_indices.tolist(),current_item.tolist()))\n",
    "            sort_dic = dict(sorted(temp_dic.items()))\n",
    "            current_items = torch.index_select(final_feature, 0, torch.tensor(list(sort_dic.values())).to(self.device))\n",
    "            Item_list_all.append(current_items)\n",
    "            len_all.append(current_item.shape[0])\n",
    "        \n",
    "\n",
    "    \n",
    "        final_time_feature = torch.nn.utils.rnn.pad_sequence(Item_list_all, batch_first=True)\n",
    "        \n",
    "        if self.model_type == 'attention':\n",
    "            max_len = max(len_all)\n",
    "            pos_encode =  PositionalEncoding(self.n_side_features, max_len=max_len).to(self.device)\n",
    "            final_time_feature = pos_encode(final_time_feature)\n",
    "\n",
    "        \n",
    "        \n",
    "        if self.model_type == 'attention':\n",
    "            for l in self.time_module:\n",
    "                len_all = torch.tensor(len_all)\n",
    "                mask = torch.arange(final_time_feature.size(1))[None, :] < len_all[:, None]\n",
    "                mask = mask.to(device)\n",
    "                final_time_feature = l(final_time_feature, mask=mask)\n",
    "            # Mean pooling for the transformers's output\n",
    "            input_mask_expanded = mask.unsqueeze(-1).expand(final_time_feature.size()).float()\n",
    "            sum_embeddings = torch.sum(final_time_feature * input_mask_expanded, 1)\n",
    "            sum_mask = torch.clamp(input_mask_expanded.sum(1), min=1e-9)\n",
    "            time_feature = sum_embeddings / sum_mask\n",
    "        else:\n",
    "            time_feature = self.time_module(final_time_feature,len_all)\n",
    "            \n",
    "        user_feature = torch.cat([concat_states[users], final_feature[users][:,:19], time_feature], 1)\n",
    "        item_feature = torch.cat([concat_states[items], final_feature[items]], 1)\n",
    "        \n",
    "        x = torch.cat([user_feature, item_feature], 1)\n",
    "#         x = torch.cat([concat_states[users], concat_states[items]], 1)        \n",
    "#         x = torch.cat([x, final_feature[users][:,:19], final_feature[items], time_feature], 1)\n",
    "        \n",
    "        x = F.relu(self.lin1(x))\n",
    "        x = F.dropout(x, p=0.5, training=self.training)\n",
    "        x = F.relu(self.lin1_2(x))\n",
    "        x = F.dropout(x, p=0.4, training=self.training)\n",
    "        x = self.lin2(x)\n",
    "        if self.regression:\n",
    "            return x[:, 0] * self.multiply_by, user_feature, item_feature\n",
    "        else:\n",
    "            return F.log_softmax(x, dim=-1), user_feature, item_feature"
   ]
  },
  {
   "cell_type": "code",
   "execution_count": 13,
   "id": "9dc8b128",
   "metadata": {},
   "outputs": [],
   "source": [
    "def logger(info, model, optimizer):\n",
    "    epoch, train_loss, test_rmse = info['epoch'], info['train_loss'], info['test_rmse']\n",
    "    with open(os.path.join(res_dir, 'log.txt'), 'a') as f:\n",
    "        f.write('Epoch {}, train loss {}, test rmse {}\\n'.format(\n",
    "            epoch, train_loss, test_rmse))\n",
    "    if type(epoch) == int and epoch % 10 == 0:\n",
    "        print('Saving model states...')\n",
    "        model_name = os.path.join(res_dir, 'model_checkpoint{}.pth'.format(epoch))\n",
    "        optimizer_name = os.path.join(\n",
    "            res_dir, 'optimizer_checkpoint{}.pth'.format(epoch)\n",
    "        )\n",
    "        if model is not None:\n",
    "            torch.save(model.state_dict(), model_name)\n",
    "        if optimizer is not None:\n",
    "            torch.save(optimizer.state_dict(), optimizer_name)"
   ]
  },
  {
   "cell_type": "code",
   "execution_count": 14,
   "id": "c1507eed",
   "metadata": {},
   "outputs": [],
   "source": [
    "import multiprocessing as mp\n",
    "import time\n",
    "from torch_geometric.loader import DataLoader\n",
    "from torch.optim import Adam\n",
    "from tqdm import tqdm\n",
    "import torch.nn.functional as F\n",
    "def eval_rmse(model, loader, device, regression = False, show_progress=False):\n",
    "    mse_loss = eval_loss(model, loader, device, regression, show_progress)\n",
    "    rmse = math.sqrt(mse_loss)\n",
    "    return rmse\n",
    "\n",
    "def num_graphs(data):\n",
    "    if data.batch is not None:\n",
    "        return data.num_graphs\n",
    "    else:\n",
    "        return data.x.size(0)\n",
    "\n",
    "def train(model, optimizer, loader, device, regression=True, ARR=0, \n",
    "          show_progress=True, epoch=None):\n",
    "    model.train()\n",
    "    total_loss = 0\n",
    "    pbar = tqdm(loader)\n",
    "    for data in pbar:\n",
    "        optimizer.zero_grad()\n",
    "        data = data.to(device)\n",
    "        out,_,_ = model(data)\n",
    "        if regression:\n",
    "            loss = F.mse_loss(out, data.y.view(-1))\n",
    "        else:\n",
    "            label = torch.add(data.y.view(-1).long(), -1)\n",
    "            loss = F.nll_loss(out, label)\n",
    "        if show_progress:\n",
    "            pbar.set_description('Epoch {}, batch loss: {}'.format(epoch, loss.item()))\n",
    "        if ARR != 0:\n",
    "            \n",
    "            for gconv in model.convs:\n",
    "                w = torch.matmul(\n",
    "                    gconv.comp,\n",
    "                    gconv.weight.view(gconv.num_bases, -1)\n",
    "                ).view(gconv.num_relations, gconv.in_channels, gconv.out_channels)\n",
    "                reg_loss = torch.sum((w[1:, :, :] - w[:-1, :, :])**2)\n",
    "                loss += ARR * reg_loss\n",
    "        loss.backward()\n",
    "        total_loss += loss.item() * num_graphs(data)\n",
    "        optimizer.step()\n",
    "        torch.cuda.empty_cache()\n",
    "    return total_loss / len(loader.dataset)\n",
    "\n",
    "def eval_loss(model, loader, device, regression=False, show_progress=False):\n",
    "    model.eval()\n",
    "    loss = 0\n",
    "    if show_progress:\n",
    "        print('Testing begins...')\n",
    "        pbar = tqdm(loader)\n",
    "    else:\n",
    "        pbar = loader\n",
    "    for data in pbar:\n",
    "        data = data.to(device)\n",
    "        with torch.no_grad():\n",
    "            out, _, _ = model(data)\n",
    "        if regression:\n",
    "            loss += F.mse_loss(out, data.y.view(-1), reduction='sum').item()\n",
    "        else:\n",
    "            label = torch.add(data.y.view(-1).long(), -1)\n",
    "            loss += F.nll_loss(out, label, reduction='sum').item()\n",
    "            \n",
    "        torch.cuda.empty_cache()\n",
    "    return loss / len(loader.dataset)\n",
    "\n",
    "def train_multiple_epochs(train_dataset,\n",
    "                          test_dataset,\n",
    "                          model,\n",
    "                          epochs,\n",
    "                          batch_size,\n",
    "                          lr,\n",
    "                          lr_decay_factor,\n",
    "                          lr_decay_step_size,\n",
    "                          weight_decay,\n",
    "                          ARR=0, \n",
    "                          test_freq=1, \n",
    "                          regression = False,\n",
    "                          logger=None, \n",
    "                          continue_from=None, \n",
    "                          res_dir=None):\n",
    "\n",
    "    rmses = []\n",
    "    train_loader = DataLoader(train_dataset, batch_size, shuffle=True)\n",
    "    test_loader = DataLoader(test_dataset, batch_size, shuffle=False)\n",
    "    model.to(device).reset_parameters()\n",
    "    optimizer = Adam(model.parameters(), lr=lr, weight_decay=weight_decay)\n",
    "    start_epoch = 1\n",
    "    if continue_from is not None:\n",
    "        model.load_state_dict(\n",
    "            torch.load(os.path.join(res_dir, 'model_checkpoint{}.pth'.format(continue_from)))\n",
    "        )\n",
    "        optimizer.load_state_dict(\n",
    "            torch.load(os.path.join(res_dir, 'optimizer_checkpoint{}.pth'.format(continue_from)))\n",
    "        )\n",
    "        start_epoch = continue_from + 1\n",
    "        epochs -= continue_from\n",
    "\n",
    "    if torch.cuda.is_available():\n",
    "        torch.cuda.synchronize()\n",
    "\n",
    "    batch_pbar = True\n",
    "    t_start = time.perf_counter()\n",
    "\n",
    "    for epoch in range(start_epoch, epochs + start_epoch):\n",
    "        train_loss = train(model, optimizer, train_loader, device, regression=regression, ARR=ARR, \n",
    "                           show_progress=batch_pbar, epoch=epoch)\n",
    "        if epoch % test_freq == 0:\n",
    "            rmses.append(eval_rmse(model, test_loader, device,regression=regression,show_progress=batch_pbar))\n",
    "        else:\n",
    "            rmses.append(np.nan)\n",
    "        eval_info = {\n",
    "            'epoch': epoch,\n",
    "            'train_loss': train_loss,\n",
    "            'test_rmse': rmses[-1],\n",
    "        }\n",
    "        print('Epoch {}, train loss {}, test rmse {}'.format(*eval_info.values()))\n",
    "\n",
    "        if epoch % lr_decay_step_size == 0:\n",
    "            for param_group in optimizer.param_groups:\n",
    "                param_group['lr'] = lr_decay_factor * param_group['lr']\n",
    "\n",
    "        if logger is not None:\n",
    "            logger(eval_info, model, optimizer)\n",
    "\n",
    "    if torch.cuda.is_available():\n",
    "        torch.cuda.synchronize()\n",
    "\n",
    "    t_end = time.perf_counter()\n",
    "    duration = t_end - t_start\n",
    "\n",
    "    print('Final Test RMSE: {:.6f}, Duration: {:.6f}'.\n",
    "          format(rmses[-1],\n",
    "                 duration))\n",
    "\n",
    "    return rmses[-1]"
   ]
  },
  {
   "cell_type": "code",
   "execution_count": 15,
   "id": "a0c149c2",
   "metadata": {},
   "outputs": [],
   "source": [
    "epochs = 60\n",
    "batch_size = 512\n",
    "lr = 0.001\n",
    "lr_decay_factor = 0.1\n",
    "lr_decay_step_size = 30\n",
    "ARR = 0.001 #'The adjacenct rating regularizer. If not 0, regularize the differences between graph convolution parameters W associated with adjacent ratings'\n",
    "test_freq = 1\n",
    "res_dir = 'Data'\n",
    "\n",
    "if torch.cuda.is_available():\n",
    "    device = torch.device('cuda:0')\n",
    "    torch.backends.cudnn.deterministic = True\n",
    "    torch.backends.cudnn.benchmark = False\n",
    "else:\n",
    "    device = torch.device('cpu')"
   ]
  },
  {
   "cell_type": "code",
   "execution_count": 16,
   "id": "969fc43e",
   "metadata": {},
   "outputs": [],
   "source": [
    "model = IGMC(\n",
    "    train_graphs, \n",
    "    device= device,\n",
    "    latent_dim=[32, 32, 32, 32], \n",
    "    num_relations=len(class_values), \n",
    "    num_bases=4, \n",
    "    regression=False, \n",
    "    adj_dropout=0.3, \n",
    "    force_undirected=False, \n",
    "    n_side_features=768, \n",
    "    multiply_by=1,\n",
    "    model_type = 'attention',\n",
    "    num_layers = 1,\n",
    ")"
   ]
  },
  {
   "cell_type": "code",
   "execution_count": 17,
   "id": "3ff08bf1",
   "metadata": {},
   "outputs": [
    {
     "data": {
      "text/plain": [
       "IGMC(\n",
       "  (time_module): ModuleList(\n",
       "    (0): EncoderBlock(\n",
       "      (self_attn): MultiheadAttention(\n",
       "        (qkv_proj): Linear(in_features=768, out_features=2304, bias=True)\n",
       "        (o_proj): Linear(in_features=768, out_features=768, bias=True)\n",
       "      )\n",
       "      (linear_net): Sequential(\n",
       "        (0): Linear(in_features=768, out_features=768, bias=True)\n",
       "        (1): Dropout(p=0.3, inplace=False)\n",
       "        (2): ReLU(inplace=True)\n",
       "        (3): Linear(in_features=768, out_features=768, bias=True)\n",
       "      )\n",
       "      (norm1): LayerNorm((768,), eps=1e-05, elementwise_affine=True)\n",
       "      (norm2): LayerNorm((768,), eps=1e-05, elementwise_affine=True)\n",
       "      (dropout): Dropout(p=0.3, inplace=False)\n",
       "    )\n",
       "  )\n",
       "  (convs): ModuleList(\n",
       "    (0): RGCNConv(4, 32, num_relations=5)\n",
       "    (1): RGCNConv(32, 32, num_relations=5)\n",
       "    (2): RGCNConv(32, 32, num_relations=5)\n",
       "    (3): RGCNConv(32, 32, num_relations=5)\n",
       "  )\n",
       "  (lin1): Linear(in_features=1811, out_features=768, bias=True)\n",
       "  (lin1_2): Linear(in_features=768, out_features=128, bias=True)\n",
       "  (lin2): Linear(in_features=128, out_features=5, bias=True)\n",
       ")"
      ]
     },
     "execution_count": 17,
     "metadata": {},
     "output_type": "execute_result"
    }
   ],
   "source": [
    "model"
   ]
  },
  {
   "cell_type": "code",
   "execution_count": 26,
   "id": "37912c61",
   "metadata": {
    "scrolled": true
   },
   "outputs": [
    {
     "name": "stderr",
     "output_type": "stream",
     "text": [
      "  0%|                                                                                          | 0/529 [00:00<?, ?it/s]C:\\Users\\yli62\\AppData\\Local\\Temp/ipykernel_14324/1334874663.py:24: DeprecationWarning: Sampling from a set deprecated\n",
      "since Python 3.9 and will be removed in a subsequent version.\n",
      "  u_fringe = random.sample(u_fringe, max_nodes_per_hop)\n",
      "Epoch 1, batch loss: 1.4433807134628296:  83%|████████████████████████████████▏      | 437/529 [13:31<03:02,  1.98s/it]"
     ]
    },
    {
     "name": "stdout",
     "output_type": "stream",
     "text": [
      "exception occur\n"
     ]
    },
    {
     "name": "stderr",
     "output_type": "stream",
     "text": [
      "Epoch 1, batch loss: 1.4102646112442017: 100%|███████████████████████████████████████| 529/529 [16:52<00:00,  1.91s/it]\n"
     ]
    },
    {
     "name": "stdout",
     "output_type": "stream",
     "text": [
      "Testing begins...\n"
     ]
    },
    {
     "name": "stderr",
     "output_type": "stream",
     "text": [
      "100%|██████████████████████████████████████████████████████████████████████████████████| 62/62 [01:30<00:00,  1.46s/it]\n"
     ]
    },
    {
     "name": "stdout",
     "output_type": "stream",
     "text": [
      "Epoch 1, train loss 1.5439763304608891, test rmse 1.16597690028557\n"
     ]
    },
    {
     "name": "stderr",
     "output_type": "stream",
     "text": [
      "Epoch 2, batch loss: 1.3819438219070435: 100%|███████████████████████████████████████| 529/529 [17:19<00:00,  1.97s/it]\n"
     ]
    },
    {
     "name": "stdout",
     "output_type": "stream",
     "text": [
      "Testing begins...\n"
     ]
    },
    {
     "name": "stderr",
     "output_type": "stream",
     "text": [
      "100%|██████████████████████████████████████████████████████████████████████████████████| 62/62 [01:31<00:00,  1.48s/it]\n"
     ]
    },
    {
     "name": "stdout",
     "output_type": "stream",
     "text": [
      "Epoch 2, train loss 1.3736009206662263, test rmse 1.1536432875671558\n"
     ]
    },
    {
     "name": "stderr",
     "output_type": "stream",
     "text": [
      "Epoch 3, batch loss: 1.3073195219039917:  67%|█████████████████████████▉             | 352/529 [11:30<05:55,  2.01s/it]"
     ]
    },
    {
     "name": "stdout",
     "output_type": "stream",
     "text": [
      "exception occur\n"
     ]
    },
    {
     "name": "stderr",
     "output_type": "stream",
     "text": [
      "Epoch 3, batch loss: 1.3208906650543213: 100%|███████████████████████████████████████| 529/529 [17:36<00:00,  2.00s/it]\n"
     ]
    },
    {
     "name": "stdout",
     "output_type": "stream",
     "text": [
      "Testing begins...\n"
     ]
    },
    {
     "name": "stderr",
     "output_type": "stream",
     "text": [
      "100%|██████████████████████████████████████████████████████████████████████████████████| 62/62 [01:34<00:00,  1.52s/it]\n"
     ]
    },
    {
     "name": "stdout",
     "output_type": "stream",
     "text": [
      "Epoch 3, train loss 1.3616427891056164, test rmse 1.149358299105122\n"
     ]
    },
    {
     "name": "stderr",
     "output_type": "stream",
     "text": [
      "Epoch 4, batch loss: 1.3212910890579224:  41%|███████████████▉                       | 216/529 [07:23<10:11,  1.95s/it]"
     ]
    },
    {
     "name": "stdout",
     "output_type": "stream",
     "text": [
      "exception occur\n"
     ]
    },
    {
     "name": "stderr",
     "output_type": "stream",
     "text": [
      "Epoch 4, batch loss: 1.3447185754776:  45%|██████████████████▋                       | 236/529 [08:00<09:47,  2.01s/it]"
     ]
    },
    {
     "name": "stdout",
     "output_type": "stream",
     "text": [
      "exception occur\n"
     ]
    },
    {
     "name": "stderr",
     "output_type": "stream",
     "text": [
      "Epoch 4, batch loss: 1.3630493879318237: 100%|███████████████████████████████████████| 529/529 [17:45<00:00,  2.01s/it]\n"
     ]
    },
    {
     "name": "stdout",
     "output_type": "stream",
     "text": [
      "Testing begins...\n"
     ]
    },
    {
     "name": "stderr",
     "output_type": "stream",
     "text": [
      "100%|██████████████████████████████████████████████████████████████████████████████████| 62/62 [01:31<00:00,  1.48s/it]\n"
     ]
    },
    {
     "name": "stdout",
     "output_type": "stream",
     "text": [
      "Epoch 4, train loss 1.3528379876447993, test rmse 1.149519126684853\n"
     ]
    },
    {
     "name": "stderr",
     "output_type": "stream",
     "text": [
      "Epoch 5, batch loss: 1.3991813659667969: 100%|███████████████████████████████████████| 529/529 [17:08<00:00,  1.94s/it]\n"
     ]
    },
    {
     "name": "stdout",
     "output_type": "stream",
     "text": [
      "Testing begins...\n"
     ]
    },
    {
     "name": "stderr",
     "output_type": "stream",
     "text": [
      "100%|██████████████████████████████████████████████████████████████████████████████████| 62/62 [01:25<00:00,  1.37s/it]\n"
     ]
    },
    {
     "name": "stdout",
     "output_type": "stream",
     "text": [
      "Epoch 5, train loss 1.348586288730562, test rmse 1.1484417228245873\n"
     ]
    },
    {
     "name": "stderr",
     "output_type": "stream",
     "text": [
      "Epoch 6, batch loss: 1.3303016424179077: 100%|███████████████████████████████████████| 529/529 [22:01<00:00,  2.50s/it]\n"
     ]
    },
    {
     "name": "stdout",
     "output_type": "stream",
     "text": [
      "Testing begins...\n"
     ]
    },
    {
     "name": "stderr",
     "output_type": "stream",
     "text": [
      "100%|██████████████████████████████████████████████████████████████████████████████████| 62/62 [02:26<00:00,  2.37s/it]\n"
     ]
    },
    {
     "name": "stdout",
     "output_type": "stream",
     "text": [
      "Epoch 6, train loss 1.3441976204346244, test rmse 1.1448702919885092\n"
     ]
    },
    {
     "name": "stderr",
     "output_type": "stream",
     "text": [
      "Epoch 7, batch loss: 1.3712568283081055: 100%|███████████████████████████████████████| 529/529 [21:18<00:00,  2.42s/it]\n"
     ]
    },
    {
     "name": "stdout",
     "output_type": "stream",
     "text": [
      "Testing begins...\n"
     ]
    },
    {
     "name": "stderr",
     "output_type": "stream",
     "text": [
      "100%|██████████████████████████████████████████████████████████████████████████████████| 62/62 [01:36<00:00,  1.56s/it]\n"
     ]
    },
    {
     "name": "stdout",
     "output_type": "stream",
     "text": [
      "Epoch 7, train loss 1.3393370657068897, test rmse 1.1484766587175292\n"
     ]
    },
    {
     "name": "stderr",
     "output_type": "stream",
     "text": [
      "Epoch 8, batch loss: 1.2895028591156006: 100%|███████████████████████████████████████| 529/529 [17:34<00:00,  1.99s/it]\n"
     ]
    },
    {
     "name": "stdout",
     "output_type": "stream",
     "text": [
      "Testing begins...\n"
     ]
    },
    {
     "name": "stderr",
     "output_type": "stream",
     "text": [
      "100%|██████████████████████████████████████████████████████████████████████████████████| 62/62 [01:51<00:00,  1.80s/it]\n"
     ]
    },
    {
     "name": "stdout",
     "output_type": "stream",
     "text": [
      "Epoch 8, train loss 1.3370396925679158, test rmse 1.1433270088656728\n"
     ]
    },
    {
     "name": "stderr",
     "output_type": "stream",
     "text": [
      "Epoch 9, batch loss: 1.3551124334335327: 100%|███████████████████████████████████████| 529/529 [19:27<00:00,  2.21s/it]\n"
     ]
    },
    {
     "name": "stdout",
     "output_type": "stream",
     "text": [
      "Testing begins...\n"
     ]
    },
    {
     "name": "stderr",
     "output_type": "stream",
     "text": [
      "100%|██████████████████████████████████████████████████████████████████████████████████| 62/62 [01:44<00:00,  1.69s/it]\n"
     ]
    },
    {
     "name": "stdout",
     "output_type": "stream",
     "text": [
      "Epoch 9, train loss 1.3341254850521664, test rmse 1.1456373628742775\n"
     ]
    },
    {
     "name": "stderr",
     "output_type": "stream",
     "text": [
      "Epoch 10, batch loss: 1.348577618598938:  32%|████████████▌                          | 170/529 [05:51<11:53,  1.99s/it]"
     ]
    },
    {
     "name": "stdout",
     "output_type": "stream",
     "text": [
      "exception occur\n"
     ]
    },
    {
     "name": "stderr",
     "output_type": "stream",
     "text": [
      "Epoch 10, batch loss: 1.2722995281219482: 100%|██████████████████████████████████████| 529/529 [17:55<00:00,  2.03s/it]\n"
     ]
    },
    {
     "name": "stdout",
     "output_type": "stream",
     "text": [
      "Testing begins...\n"
     ]
    },
    {
     "name": "stderr",
     "output_type": "stream",
     "text": [
      "100%|██████████████████████████████████████████████████████████████████████████████████| 62/62 [01:39<00:00,  1.60s/it]\n"
     ]
    },
    {
     "name": "stdout",
     "output_type": "stream",
     "text": [
      "Epoch 10, train loss 1.3322201300095533, test rmse 1.141413352229138\n",
      "Saving model states...\n"
     ]
    },
    {
     "name": "stderr",
     "output_type": "stream",
     "text": [
      "Epoch 11, batch loss: 1.3462252616882324: 100%|██████████████████████████████████████| 529/529 [17:40<00:00,  2.00s/it]\n"
     ]
    },
    {
     "name": "stdout",
     "output_type": "stream",
     "text": [
      "Testing begins...\n"
     ]
    },
    {
     "name": "stderr",
     "output_type": "stream",
     "text": [
      "100%|██████████████████████████████████████████████████████████████████████████████████| 62/62 [01:32<00:00,  1.49s/it]\n"
     ]
    },
    {
     "name": "stdout",
     "output_type": "stream",
     "text": [
      "Epoch 11, train loss 1.3292418281093297, test rmse 1.1410740531704358\n"
     ]
    },
    {
     "name": "stderr",
     "output_type": "stream",
     "text": [
      "Epoch 12, batch loss: 1.2900023460388184: 100%|██████████████████████████████████████| 529/529 [19:20<00:00,  2.19s/it]\n"
     ]
    },
    {
     "name": "stdout",
     "output_type": "stream",
     "text": [
      "Testing begins...\n"
     ]
    },
    {
     "name": "stderr",
     "output_type": "stream",
     "text": [
      "100%|██████████████████████████████████████████████████████████████████████████████████| 62/62 [01:36<00:00,  1.55s/it]\n"
     ]
    },
    {
     "name": "stdout",
     "output_type": "stream",
     "text": [
      "Epoch 12, train loss 1.329877681353831, test rmse 1.1411748766902554\n"
     ]
    },
    {
     "name": "stderr",
     "output_type": "stream",
     "text": [
      "Epoch 13, batch loss: 1.3247922658920288: 100%|██████████████████████████████████████| 529/529 [18:29<00:00,  2.10s/it]\n"
     ]
    },
    {
     "name": "stdout",
     "output_type": "stream",
     "text": [
      "Testing begins...\n"
     ]
    },
    {
     "name": "stderr",
     "output_type": "stream",
     "text": [
      "100%|██████████████████████████████████████████████████████████████████████████████████| 62/62 [01:41<00:00,  1.64s/it]\n"
     ]
    },
    {
     "name": "stdout",
     "output_type": "stream",
     "text": [
      "Epoch 13, train loss 1.328170802140848, test rmse 1.1404698426053712\n"
     ]
    },
    {
     "name": "stderr",
     "output_type": "stream",
     "text": [
      "Epoch 14, batch loss: 1.334334135055542: 100%|███████████████████████████████████████| 529/529 [18:50<00:00,  2.14s/it]\n"
     ]
    },
    {
     "name": "stdout",
     "output_type": "stream",
     "text": [
      "Testing begins...\n"
     ]
    },
    {
     "name": "stderr",
     "output_type": "stream",
     "text": [
      "100%|██████████████████████████████████████████████████████████████████████████████████| 62/62 [01:38<00:00,  1.58s/it]\n"
     ]
    },
    {
     "name": "stdout",
     "output_type": "stream",
     "text": [
      "Epoch 14, train loss 1.327316866959523, test rmse 1.139182814001444\n"
     ]
    },
    {
     "name": "stderr",
     "output_type": "stream",
     "text": [
      "Epoch 15, batch loss: 1.330390453338623: 100%|███████████████████████████████████████| 529/529 [18:31<00:00,  2.10s/it]\n"
     ]
    },
    {
     "name": "stdout",
     "output_type": "stream",
     "text": [
      "Testing begins...\n"
     ]
    },
    {
     "name": "stderr",
     "output_type": "stream",
     "text": [
      "100%|██████████████████████████████████████████████████████████████████████████████████| 62/62 [01:37<00:00,  1.57s/it]\n"
     ]
    },
    {
     "name": "stdout",
     "output_type": "stream",
     "text": [
      "Epoch 15, train loss 1.3243194302851766, test rmse 1.1366895597326148\n"
     ]
    },
    {
     "name": "stderr",
     "output_type": "stream",
     "text": [
      "Epoch 16, batch loss: 1.320249319076538:  85%|█████████████████████████████████▏     | 451/529 [17:28<03:12,  2.46s/it]"
     ]
    },
    {
     "name": "stdout",
     "output_type": "stream",
     "text": [
      "exception occur\n"
     ]
    },
    {
     "name": "stderr",
     "output_type": "stream",
     "text": [
      "Epoch 16, batch loss: 1.3232542276382446:  99%|█████████████████████████████████████▋| 525/529 [20:37<00:09,  2.45s/it]"
     ]
    },
    {
     "name": "stdout",
     "output_type": "stream",
     "text": [
      "exception occur\n"
     ]
    },
    {
     "name": "stderr",
     "output_type": "stream",
     "text": [
      "Epoch 16, batch loss: 1.3430620431900024: 100%|██████████████████████████████████████| 529/529 [20:46<00:00,  2.36s/it]\n"
     ]
    },
    {
     "name": "stdout",
     "output_type": "stream",
     "text": [
      "Testing begins...\n"
     ]
    },
    {
     "name": "stderr",
     "output_type": "stream",
     "text": [
      "100%|██████████████████████████████████████████████████████████████████████████████████| 62/62 [01:53<00:00,  1.83s/it]\n"
     ]
    },
    {
     "name": "stdout",
     "output_type": "stream",
     "text": [
      "Epoch 16, train loss 1.3254772226484675, test rmse 1.1387790139294354\n"
     ]
    },
    {
     "name": "stderr",
     "output_type": "stream",
     "text": [
      "Epoch 17, batch loss: 1.3767714500427246: 100%|██████████████████████████████████████| 529/529 [21:33<00:00,  2.44s/it]\n"
     ]
    },
    {
     "name": "stdout",
     "output_type": "stream",
     "text": [
      "Testing begins...\n"
     ]
    },
    {
     "name": "stderr",
     "output_type": "stream",
     "text": [
      "100%|██████████████████████████████████████████████████████████████████████████████████| 62/62 [01:57<00:00,  1.89s/it]\n"
     ]
    },
    {
     "name": "stdout",
     "output_type": "stream",
     "text": [
      "Epoch 17, train loss 1.3228440125555194, test rmse 1.138121084480294\n"
     ]
    },
    {
     "name": "stderr",
     "output_type": "stream",
     "text": [
      "Epoch 18, batch loss: 1.3203613758087158: 100%|██████████████████████████████████████| 529/529 [20:02<00:00,  2.27s/it]\n"
     ]
    },
    {
     "name": "stdout",
     "output_type": "stream",
     "text": [
      "Testing begins...\n"
     ]
    },
    {
     "name": "stderr",
     "output_type": "stream",
     "text": [
      "100%|██████████████████████████████████████████████████████████████████████████████████| 62/62 [01:28<00:00,  1.42s/it]\n"
     ]
    },
    {
     "name": "stdout",
     "output_type": "stream",
     "text": [
      "Epoch 18, train loss 1.3227735247224564, test rmse 1.1376374405856609\n"
     ]
    },
    {
     "name": "stderr",
     "output_type": "stream",
     "text": [
      "Epoch 19, batch loss: 1.3500545024871826: 100%|██████████████████████████████████████| 529/529 [16:31<00:00,  1.87s/it]\n"
     ]
    },
    {
     "name": "stdout",
     "output_type": "stream",
     "text": [
      "Testing begins...\n"
     ]
    },
    {
     "name": "stderr",
     "output_type": "stream",
     "text": [
      "100%|██████████████████████████████████████████████████████████████████████████████████| 62/62 [01:27<00:00,  1.41s/it]\n"
     ]
    },
    {
     "name": "stdout",
     "output_type": "stream",
     "text": [
      "Epoch 19, train loss 1.323034447701859, test rmse 1.137052508374801\n"
     ]
    },
    {
     "name": "stderr",
     "output_type": "stream",
     "text": [
      "Epoch 20, batch loss: 1.294103980064392:  26%|██████████                             | 137/529 [04:14<12:07,  1.86s/it]"
     ]
    },
    {
     "name": "stdout",
     "output_type": "stream",
     "text": [
      "exception occur\n"
     ]
    },
    {
     "name": "stderr",
     "output_type": "stream",
     "text": [
      "Epoch 20, batch loss: 1.3233304023742676: 100%|██████████████████████████████████████| 529/529 [16:25<00:00,  1.86s/it]\n"
     ]
    },
    {
     "name": "stdout",
     "output_type": "stream",
     "text": [
      "Testing begins...\n"
     ]
    },
    {
     "name": "stderr",
     "output_type": "stream",
     "text": [
      "100%|██████████████████████████████████████████████████████████████████████████████████| 62/62 [01:28<00:00,  1.42s/it]\n"
     ]
    },
    {
     "name": "stdout",
     "output_type": "stream",
     "text": [
      "Epoch 20, train loss 1.3215436662008155, test rmse 1.1401404673001354\n",
      "Saving model states...\n"
     ]
    },
    {
     "name": "stderr",
     "output_type": "stream",
     "text": [
      "Epoch 21, batch loss: 1.372740626335144: 100%|███████████████████████████████████████| 529/529 [16:50<00:00,  1.91s/it]\n"
     ]
    },
    {
     "name": "stdout",
     "output_type": "stream",
     "text": [
      "Testing begins...\n"
     ]
    },
    {
     "name": "stderr",
     "output_type": "stream",
     "text": [
      "100%|██████████████████████████████████████████████████████████████████████████████████| 62/62 [01:28<00:00,  1.43s/it]\n"
     ]
    },
    {
     "name": "stdout",
     "output_type": "stream",
     "text": [
      "Epoch 21, train loss 1.3220403357379304, test rmse 1.1366632814282833\n"
     ]
    },
    {
     "name": "stderr",
     "output_type": "stream",
     "text": [
      "Epoch 22, batch loss: 1.3041422367095947: 100%|██████████████████████████████████████| 529/529 [16:33<00:00,  1.88s/it]\n"
     ]
    },
    {
     "name": "stdout",
     "output_type": "stream",
     "text": [
      "Testing begins...\n"
     ]
    },
    {
     "name": "stderr",
     "output_type": "stream",
     "text": [
      "100%|██████████████████████████████████████████████████████████████████████████████████| 62/62 [01:28<00:00,  1.43s/it]\n"
     ]
    },
    {
     "name": "stdout",
     "output_type": "stream",
     "text": [
      "Epoch 22, train loss 1.321454994653284, test rmse 1.1376761493208032\n"
     ]
    },
    {
     "name": "stderr",
     "output_type": "stream",
     "text": [
      "Epoch 23, batch loss: 1.3603779077529907: 100%|██████████████████████████████████████| 529/529 [16:26<00:00,  1.87s/it]\n"
     ]
    },
    {
     "name": "stdout",
     "output_type": "stream",
     "text": [
      "Testing begins...\n"
     ]
    },
    {
     "name": "stderr",
     "output_type": "stream",
     "text": [
      "100%|██████████████████████████████████████████████████████████████████████████████████| 62/62 [01:27<00:00,  1.41s/it]\n"
     ]
    },
    {
     "name": "stdout",
     "output_type": "stream",
     "text": [
      "Epoch 23, train loss 1.3209291972105102, test rmse 1.1372463672350954\n"
     ]
    },
    {
     "name": "stderr",
     "output_type": "stream",
     "text": [
      "Epoch 24, batch loss: 1.3148510456085205:   7%|██▉                                    | 39/529 [01:14<15:11,  1.86s/it]"
     ]
    },
    {
     "name": "stdout",
     "output_type": "stream",
     "text": [
      "exception occur\n"
     ]
    },
    {
     "name": "stderr",
     "output_type": "stream",
     "text": [
      "Epoch 24, batch loss: 1.3748959302902222:  53%|████████████████████▎                 | 283/529 [08:50<07:39,  1.87s/it]"
     ]
    },
    {
     "name": "stdout",
     "output_type": "stream",
     "text": [
      "exception occur\n"
     ]
    },
    {
     "name": "stderr",
     "output_type": "stream",
     "text": [
      "Epoch 24, batch loss: 1.3348915576934814: 100%|██████████████████████████████████████| 529/529 [16:30<00:00,  1.87s/it]\n"
     ]
    },
    {
     "name": "stdout",
     "output_type": "stream",
     "text": [
      "Testing begins...\n"
     ]
    },
    {
     "name": "stderr",
     "output_type": "stream",
     "text": [
      "100%|██████████████████████████████████████████████████████████████████████████████████| 62/62 [01:27<00:00,  1.41s/it]\n"
     ]
    },
    {
     "name": "stdout",
     "output_type": "stream",
     "text": [
      "Epoch 24, train loss 1.3209586747912918, test rmse 1.1358579921778509\n"
     ]
    },
    {
     "name": "stderr",
     "output_type": "stream",
     "text": [
      "Epoch 25, batch loss: 1.3416677713394165: 100%|██████████████████████████████████████| 529/529 [16:31<00:00,  1.87s/it]\n"
     ]
    },
    {
     "name": "stdout",
     "output_type": "stream",
     "text": [
      "Testing begins...\n"
     ]
    },
    {
     "name": "stderr",
     "output_type": "stream",
     "text": [
      "100%|██████████████████████████████████████████████████████████████████████████████████| 62/62 [01:27<00:00,  1.41s/it]\n"
     ]
    },
    {
     "name": "stdout",
     "output_type": "stream",
     "text": [
      "Epoch 25, train loss 1.31882417946853, test rmse 1.137063695769085\n"
     ]
    },
    {
     "name": "stderr",
     "output_type": "stream",
     "text": [
      "Epoch 26, batch loss: 1.3006612062454224: 100%|██████████████████████████████████████| 529/529 [16:31<00:00,  1.87s/it]\n"
     ]
    },
    {
     "name": "stdout",
     "output_type": "stream",
     "text": [
      "Testing begins...\n"
     ]
    },
    {
     "name": "stderr",
     "output_type": "stream",
     "text": [
      "100%|██████████████████████████████████████████████████████████████████████████████████| 62/62 [01:28<00:00,  1.42s/it]\n"
     ]
    },
    {
     "name": "stdout",
     "output_type": "stream",
     "text": [
      "Epoch 26, train loss 1.3194211111602614, test rmse 1.1407217630537994\n"
     ]
    },
    {
     "name": "stderr",
     "output_type": "stream",
     "text": [
      "Epoch 27, batch loss: 1.3530869483947754:  70%|██████████████████████████▋           | 372/529 [11:36<04:51,  1.85s/it]"
     ]
    },
    {
     "name": "stdout",
     "output_type": "stream",
     "text": [
      "exception occur\n"
     ]
    },
    {
     "name": "stderr",
     "output_type": "stream",
     "text": [
      "Epoch 27, batch loss: 1.277817726135254: 100%|███████████████████████████████████████| 529/529 [16:28<00:00,  1.87s/it]\n"
     ]
    },
    {
     "name": "stdout",
     "output_type": "stream",
     "text": [
      "Testing begins...\n"
     ]
    },
    {
     "name": "stderr",
     "output_type": "stream",
     "text": [
      "100%|██████████████████████████████████████████████████████████████████████████████████| 62/62 [01:26<00:00,  1.40s/it]\n"
     ]
    },
    {
     "name": "stdout",
     "output_type": "stream",
     "text": [
      "Epoch 27, train loss 1.319071235632485, test rmse 1.1373306162730428\n"
     ]
    },
    {
     "name": "stderr",
     "output_type": "stream",
     "text": [
      "Epoch 28, batch loss: 1.3378527164459229:  21%|████████                              | 112/529 [03:28<12:45,  1.84s/it]"
     ]
    },
    {
     "name": "stdout",
     "output_type": "stream",
     "text": [
      "exception occur\n"
     ]
    },
    {
     "name": "stderr",
     "output_type": "stream",
     "text": [
      "Epoch 28, batch loss: 1.280733585357666: 100%|███████████████████████████████████████| 529/529 [16:25<00:00,  1.86s/it]\n"
     ]
    },
    {
     "name": "stdout",
     "output_type": "stream",
     "text": [
      "Testing begins...\n"
     ]
    },
    {
     "name": "stderr",
     "output_type": "stream",
     "text": [
      "100%|██████████████████████████████████████████████████████████████████████████████████| 62/62 [01:28<00:00,  1.43s/it]\n"
     ]
    },
    {
     "name": "stdout",
     "output_type": "stream",
     "text": [
      "Epoch 28, train loss 1.3184713382489934, test rmse 1.1362815343828574\n"
     ]
    },
    {
     "name": "stderr",
     "output_type": "stream",
     "text": [
      "Epoch 29, batch loss: 1.2895563840866089: 100%|██████████████████████████████████████| 529/529 [16:33<00:00,  1.88s/it]\n"
     ]
    },
    {
     "name": "stdout",
     "output_type": "stream",
     "text": [
      "Testing begins...\n"
     ]
    },
    {
     "name": "stderr",
     "output_type": "stream",
     "text": [
      "100%|██████████████████████████████████████████████████████████████████████████████████| 62/62 [01:28<00:00,  1.43s/it]\n"
     ]
    },
    {
     "name": "stdout",
     "output_type": "stream",
     "text": [
      "Epoch 29, train loss 1.3170749040401144, test rmse 1.1382596899794308\n"
     ]
    },
    {
     "name": "stderr",
     "output_type": "stream",
     "text": [
      "Epoch 30, batch loss: 1.4089158773422241: 100%|██████████████████████████████████████| 529/529 [16:32<00:00,  1.88s/it]\n"
     ]
    },
    {
     "name": "stdout",
     "output_type": "stream",
     "text": [
      "Testing begins...\n"
     ]
    },
    {
     "name": "stderr",
     "output_type": "stream",
     "text": [
      "100%|██████████████████████████████████████████████████████████████████████████████████| 62/62 [01:28<00:00,  1.43s/it]\n"
     ]
    },
    {
     "name": "stdout",
     "output_type": "stream",
     "text": [
      "Epoch 30, train loss 1.3187044009444833, test rmse 1.136867778824766\n",
      "Saving model states...\n"
     ]
    },
    {
     "name": "stderr",
     "output_type": "stream",
     "text": [
      "Epoch 31, batch loss: 1.286727786064148:  70%|███████████████████████████▏           | 369/529 [11:30<05:01,  1.89s/it]"
     ]
    },
    {
     "name": "stdout",
     "output_type": "stream",
     "text": [
      "exception occur\n"
     ]
    },
    {
     "name": "stderr",
     "output_type": "stream",
     "text": [
      "Epoch 31, batch loss: 1.3527213335037231: 100%|██████████████████████████████████████| 529/529 [16:28<00:00,  1.87s/it]\n"
     ]
    },
    {
     "name": "stdout",
     "output_type": "stream",
     "text": [
      "Testing begins...\n"
     ]
    },
    {
     "name": "stderr",
     "output_type": "stream",
     "text": [
      "100%|██████████████████████████████████████████████████████████████████████████████████| 62/62 [01:28<00:00,  1.42s/it]\n"
     ]
    },
    {
     "name": "stdout",
     "output_type": "stream",
     "text": [
      "Epoch 31, train loss 1.3067684596456426, test rmse 1.1343636853256645\n"
     ]
    },
    {
     "name": "stderr",
     "output_type": "stream",
     "text": [
      "Epoch 32, batch loss: 1.2384657859802246: 100%|██████████████████████████████████████| 529/529 [16:43<00:00,  1.90s/it]\n"
     ]
    },
    {
     "name": "stdout",
     "output_type": "stream",
     "text": [
      "Testing begins...\n"
     ]
    },
    {
     "name": "stderr",
     "output_type": "stream",
     "text": [
      "100%|██████████████████████████████████████████████████████████████████████████████████| 62/62 [01:28<00:00,  1.43s/it]\n"
     ]
    },
    {
     "name": "stdout",
     "output_type": "stream",
     "text": [
      "Epoch 32, train loss 1.3020828687363852, test rmse 1.1331811921115122\n"
     ]
    },
    {
     "name": "stderr",
     "output_type": "stream",
     "text": [
      "Epoch 33, batch loss: 1.2993613481521606: 100%|██████████████████████████████████████| 529/529 [16:28<00:00,  1.87s/it]\n"
     ]
    },
    {
     "name": "stdout",
     "output_type": "stream",
     "text": [
      "Testing begins...\n"
     ]
    },
    {
     "name": "stderr",
     "output_type": "stream",
     "text": [
      "100%|██████████████████████████████████████████████████████████████████████████████████| 62/62 [01:27<00:00,  1.41s/it]\n"
     ]
    },
    {
     "name": "stdout",
     "output_type": "stream",
     "text": [
      "Epoch 33, train loss 1.3005008422525552, test rmse 1.1329695822228365\n"
     ]
    },
    {
     "name": "stderr",
     "output_type": "stream",
     "text": [
      "Epoch 34, batch loss: 1.2706669569015503: 100%|██████████████████████████████████████| 529/529 [16:26<00:00,  1.87s/it]\n"
     ]
    },
    {
     "name": "stdout",
     "output_type": "stream",
     "text": [
      "Testing begins...\n"
     ]
    },
    {
     "name": "stderr",
     "output_type": "stream",
     "text": [
      "100%|██████████████████████████████████████████████████████████████████████████████████| 62/62 [01:28<00:00,  1.42s/it]\n"
     ]
    },
    {
     "name": "stdout",
     "output_type": "stream",
     "text": [
      "Epoch 34, train loss 1.3001599743718952, test rmse 1.1332660452647938\n"
     ]
    },
    {
     "name": "stderr",
     "output_type": "stream",
     "text": [
      "Epoch 35, batch loss: 1.279008150100708:  48%|██████████████████▊                    | 255/529 [07:57<08:23,  1.84s/it]"
     ]
    },
    {
     "name": "stdout",
     "output_type": "stream",
     "text": [
      "exception occur\n"
     ]
    },
    {
     "name": "stderr",
     "output_type": "stream",
     "text": [
      "Epoch 35, batch loss: 1.2926441431045532:  72%|███████████████████████████▎          | 380/529 [11:49<04:40,  1.88s/it]"
     ]
    },
    {
     "name": "stdout",
     "output_type": "stream",
     "text": [
      "exception occur\n"
     ]
    },
    {
     "name": "stderr",
     "output_type": "stream",
     "text": [
      "Epoch 35, batch loss: 1.3004440069198608: 100%|██████████████████████████████████████| 529/529 [16:26<00:00,  1.87s/it]\n"
     ]
    },
    {
     "name": "stdout",
     "output_type": "stream",
     "text": [
      "Testing begins...\n"
     ]
    },
    {
     "name": "stderr",
     "output_type": "stream",
     "text": [
      "100%|██████████████████████████████████████████████████████████████████████████████████| 62/62 [01:29<00:00,  1.44s/it]\n"
     ]
    },
    {
     "name": "stdout",
     "output_type": "stream",
     "text": [
      "Epoch 35, train loss 1.298567991833824, test rmse 1.1324826260245773\n"
     ]
    },
    {
     "name": "stderr",
     "output_type": "stream",
     "text": [
      "Epoch 36, batch loss: 1.3252928256988525: 100%|██████████████████████████████████████| 529/529 [16:32<00:00,  1.88s/it]\n"
     ]
    },
    {
     "name": "stdout",
     "output_type": "stream",
     "text": [
      "Testing begins...\n"
     ]
    },
    {
     "name": "stderr",
     "output_type": "stream",
     "text": [
      "100%|██████████████████████████████████████████████████████████████████████████████████| 62/62 [01:28<00:00,  1.43s/it]\n"
     ]
    },
    {
     "name": "stdout",
     "output_type": "stream",
     "text": [
      "Epoch 36, train loss 1.2988561950261959, test rmse 1.1335844653957516\n"
     ]
    },
    {
     "name": "stderr",
     "output_type": "stream",
     "text": [
      "Epoch 37, batch loss: 1.3168731927871704:  41%|███████████████▌                      | 217/529 [06:44<09:43,  1.87s/it]"
     ]
    },
    {
     "name": "stdout",
     "output_type": "stream",
     "text": [
      "exception occur\n"
     ]
    },
    {
     "name": "stderr",
     "output_type": "stream",
     "text": [
      "Epoch 37, batch loss: 1.270909309387207: 100%|███████████████████████████████████████| 529/529 [16:28<00:00,  1.87s/it]\n"
     ]
    },
    {
     "name": "stdout",
     "output_type": "stream",
     "text": [
      "Testing begins...\n"
     ]
    },
    {
     "name": "stderr",
     "output_type": "stream",
     "text": [
      "100%|██████████████████████████████████████████████████████████████████████████████████| 62/62 [01:27<00:00,  1.41s/it]\n"
     ]
    },
    {
     "name": "stdout",
     "output_type": "stream",
     "text": [
      "Epoch 37, train loss 1.298176794499514, test rmse 1.1323143194943521\n"
     ]
    },
    {
     "name": "stderr",
     "output_type": "stream",
     "text": [
      "Epoch 38, batch loss: 1.3152763843536377:   3%|█▎                                     | 17/529 [00:31<15:48,  1.85s/it]"
     ]
    },
    {
     "name": "stdout",
     "output_type": "stream",
     "text": [
      "exception occur\n"
     ]
    },
    {
     "name": "stderr",
     "output_type": "stream",
     "text": [
      "Epoch 38, batch loss: 1.3236174583435059: 100%|██████████████████████████████████████| 529/529 [16:31<00:00,  1.87s/it]\n"
     ]
    },
    {
     "name": "stdout",
     "output_type": "stream",
     "text": [
      "Testing begins...\n"
     ]
    },
    {
     "name": "stderr",
     "output_type": "stream",
     "text": [
      "100%|██████████████████████████████████████████████████████████████████████████████████| 62/62 [01:28<00:00,  1.43s/it]\n"
     ]
    },
    {
     "name": "stdout",
     "output_type": "stream",
     "text": [
      "Epoch 38, train loss 1.2976385486970536, test rmse 1.13282010841709\n"
     ]
    },
    {
     "name": "stderr",
     "output_type": "stream",
     "text": [
      "Epoch 39, batch loss: 1.2740453481674194: 100%|██████████████████████████████████████| 529/529 [16:32<00:00,  1.88s/it]\n"
     ]
    },
    {
     "name": "stdout",
     "output_type": "stream",
     "text": [
      "Testing begins...\n"
     ]
    },
    {
     "name": "stderr",
     "output_type": "stream",
     "text": [
      "100%|██████████████████████████████████████████████████████████████████████████████████| 62/62 [01:27<00:00,  1.41s/it]\n"
     ]
    },
    {
     "name": "stdout",
     "output_type": "stream",
     "text": [
      "Epoch 39, train loss 1.296735209224781, test rmse 1.1322825449530065\n"
     ]
    },
    {
     "name": "stderr",
     "output_type": "stream",
     "text": [
      "Epoch 40, batch loss: 1.3084763288497925: 100%|██████████████████████████████████████| 529/529 [16:30<00:00,  1.87s/it]\n"
     ]
    },
    {
     "name": "stdout",
     "output_type": "stream",
     "text": [
      "Testing begins...\n"
     ]
    },
    {
     "name": "stderr",
     "output_type": "stream",
     "text": [
      "100%|██████████████████████████████████████████████████████████████████████████████████| 62/62 [01:29<00:00,  1.44s/it]\n"
     ]
    },
    {
     "name": "stdout",
     "output_type": "stream",
     "text": [
      "Epoch 40, train loss 1.29690193420533, test rmse 1.1324714316712956\n",
      "Saving model states...\n"
     ]
    },
    {
     "name": "stderr",
     "output_type": "stream",
     "text": [
      "Epoch 41, batch loss: 1.3064980506896973: 100%|██████████████████████████████████████| 529/529 [16:30<00:00,  1.87s/it]\n"
     ]
    },
    {
     "name": "stdout",
     "output_type": "stream",
     "text": [
      "Testing begins...\n"
     ]
    },
    {
     "name": "stderr",
     "output_type": "stream",
     "text": [
      "100%|██████████████████████████████████████████████████████████████████████████████████| 62/62 [01:27<00:00,  1.40s/it]\n"
     ]
    },
    {
     "name": "stdout",
     "output_type": "stream",
     "text": [
      "Epoch 41, train loss 1.2965474828570078, test rmse 1.1325009857498667\n"
     ]
    },
    {
     "name": "stderr",
     "output_type": "stream",
     "text": [
      "Epoch 42, batch loss: 1.2735798358917236: 100%|██████████████████████████████████████| 529/529 [16:21<00:00,  1.86s/it]\n"
     ]
    },
    {
     "name": "stdout",
     "output_type": "stream",
     "text": [
      "Testing begins...\n"
     ]
    },
    {
     "name": "stderr",
     "output_type": "stream",
     "text": [
      "100%|██████████████████████████████████████████████████████████████████████████████████| 62/62 [01:28<00:00,  1.43s/it]\n"
     ]
    },
    {
     "name": "stdout",
     "output_type": "stream",
     "text": [
      "Epoch 42, train loss 1.2968554044923581, test rmse 1.1321318235467945\n"
     ]
    },
    {
     "name": "stderr",
     "output_type": "stream",
     "text": [
      "Epoch 43, batch loss: 1.3367830514907837:  16%|██████                                 | 82/529 [02:31<13:45,  1.85s/it]"
     ]
    },
    {
     "name": "stdout",
     "output_type": "stream",
     "text": [
      "exception occur\n"
     ]
    },
    {
     "name": "stderr",
     "output_type": "stream",
     "text": [
      "Epoch 43, batch loss: 1.3247873783111572:  84%|███████████████████████████████▊      | 442/529 [13:41<02:41,  1.86s/it]"
     ]
    },
    {
     "name": "stdout",
     "output_type": "stream",
     "text": [
      "exception occur\n"
     ]
    },
    {
     "name": "stderr",
     "output_type": "stream",
     "text": [
      "Epoch 43, batch loss: 1.219181776046753: 100%|███████████████████████████████████████| 529/529 [16:22<00:00,  1.86s/it]\n"
     ]
    },
    {
     "name": "stdout",
     "output_type": "stream",
     "text": [
      "Testing begins...\n"
     ]
    },
    {
     "name": "stderr",
     "output_type": "stream",
     "text": [
      "100%|██████████████████████████████████████████████████████████████████████████████████| 62/62 [01:27<00:00,  1.41s/it]\n"
     ]
    },
    {
     "name": "stdout",
     "output_type": "stream",
     "text": [
      "Epoch 43, train loss 1.2958740950735077, test rmse 1.1316711512255124\n"
     ]
    },
    {
     "name": "stderr",
     "output_type": "stream",
     "text": [
      "Epoch 44, batch loss: 1.2696304321289062: 100%|██████████████████████████████████████| 529/529 [16:15<00:00,  1.84s/it]\n"
     ]
    },
    {
     "name": "stdout",
     "output_type": "stream",
     "text": [
      "Testing begins...\n"
     ]
    },
    {
     "name": "stderr",
     "output_type": "stream",
     "text": [
      "100%|██████████████████████████████████████████████████████████████████████████████████| 62/62 [01:25<00:00,  1.39s/it]\n"
     ]
    },
    {
     "name": "stdout",
     "output_type": "stream",
     "text": [
      "Epoch 44, train loss 1.294983213580745, test rmse 1.131574495748028\n"
     ]
    },
    {
     "name": "stderr",
     "output_type": "stream",
     "text": [
      "Epoch 45, batch loss: 1.3047993183135986: 100%|██████████████████████████████████████| 529/529 [16:11<00:00,  1.84s/it]\n"
     ]
    },
    {
     "name": "stdout",
     "output_type": "stream",
     "text": [
      "Testing begins...\n"
     ]
    },
    {
     "name": "stderr",
     "output_type": "stream",
     "text": [
      "100%|██████████████████████████████████████████████████████████████████████████████████| 62/62 [01:27<00:00,  1.40s/it]\n"
     ]
    },
    {
     "name": "stdout",
     "output_type": "stream",
     "text": [
      "Epoch 45, train loss 1.2956251689239873, test rmse 1.1324957078061109\n"
     ]
    },
    {
     "name": "stderr",
     "output_type": "stream",
     "text": [
      "Epoch 46, batch loss: 1.3369121551513672: 100%|██████████████████████████████████████| 529/529 [16:20<00:00,  1.85s/it]\n"
     ]
    },
    {
     "name": "stdout",
     "output_type": "stream",
     "text": [
      "Testing begins...\n"
     ]
    },
    {
     "name": "stderr",
     "output_type": "stream",
     "text": [
      "100%|██████████████████████████████████████████████████████████████████████████████████| 62/62 [01:27<00:00,  1.41s/it]\n"
     ]
    },
    {
     "name": "stdout",
     "output_type": "stream",
     "text": [
      "Epoch 46, train loss 1.2948441543401525, test rmse 1.132287000813567\n"
     ]
    },
    {
     "name": "stderr",
     "output_type": "stream",
     "text": [
      "Epoch 47, batch loss: 1.3499534130096436: 100%|██████████████████████████████████████| 529/529 [16:20<00:00,  1.85s/it]\n"
     ]
    },
    {
     "name": "stdout",
     "output_type": "stream",
     "text": [
      "Testing begins...\n"
     ]
    },
    {
     "name": "stderr",
     "output_type": "stream",
     "text": [
      "100%|██████████████████████████████████████████████████████████████████████████████████| 62/62 [01:27<00:00,  1.42s/it]\n"
     ]
    },
    {
     "name": "stdout",
     "output_type": "stream",
     "text": [
      "Epoch 47, train loss 1.2941172500650213, test rmse 1.1317415719212518\n"
     ]
    },
    {
     "name": "stderr",
     "output_type": "stream",
     "text": [
      "Epoch 48, batch loss: 1.3331007957458496:   1%|▍                                       | 5/529 [00:09<15:55,  1.82s/it]"
     ]
    },
    {
     "name": "stdout",
     "output_type": "stream",
     "text": [
      "exception occur\n"
     ]
    },
    {
     "name": "stderr",
     "output_type": "stream",
     "text": [
      "Epoch 48, batch loss: 1.2958272695541382: 100%|██████████████████████████████████████| 529/529 [16:20<00:00,  1.85s/it]\n"
     ]
    },
    {
     "name": "stdout",
     "output_type": "stream",
     "text": [
      "Testing begins...\n"
     ]
    },
    {
     "name": "stderr",
     "output_type": "stream",
     "text": [
      "100%|██████████████████████████████████████████████████████████████████████████████████| 62/62 [01:27<00:00,  1.41s/it]\n"
     ]
    },
    {
     "name": "stdout",
     "output_type": "stream",
     "text": [
      "Epoch 48, train loss 1.2937651757586248, test rmse 1.1318601799940853\n"
     ]
    },
    {
     "name": "stderr",
     "output_type": "stream",
     "text": [
      "Epoch 49, batch loss: 1.2720049619674683: 100%|██████████████████████████████████████| 529/529 [16:21<00:00,  1.86s/it]\n"
     ]
    },
    {
     "name": "stdout",
     "output_type": "stream",
     "text": [
      "Testing begins...\n"
     ]
    },
    {
     "name": "stderr",
     "output_type": "stream",
     "text": [
      "100%|██████████████████████████████████████████████████████████████████████████████████| 62/62 [01:26<00:00,  1.40s/it]\n"
     ]
    },
    {
     "name": "stdout",
     "output_type": "stream",
     "text": [
      "Epoch 49, train loss 1.2939357631925452, test rmse 1.1324396691977374\n"
     ]
    },
    {
     "name": "stderr",
     "output_type": "stream",
     "text": [
      "Epoch 50, batch loss: 1.258123755455017:  18%|███████▎                                | 96/529 [02:56<13:13,  1.83s/it]"
     ]
    },
    {
     "name": "stdout",
     "output_type": "stream",
     "text": [
      "exception occur\n"
     ]
    },
    {
     "name": "stderr",
     "output_type": "stream",
     "text": [
      "Epoch 50, batch loss: 1.3019949197769165: 100%|██████████████████████████████████████| 529/529 [16:06<00:00,  1.83s/it]\n"
     ]
    },
    {
     "name": "stdout",
     "output_type": "stream",
     "text": [
      "Testing begins...\n"
     ]
    },
    {
     "name": "stderr",
     "output_type": "stream",
     "text": [
      "100%|██████████████████████████████████████████████████████████████████████████████████| 62/62 [01:26<00:00,  1.39s/it]\n"
     ]
    },
    {
     "name": "stdout",
     "output_type": "stream",
     "text": [
      "Epoch 50, train loss 1.2943234028682769, test rmse 1.131646086661425\n",
      "Saving model states...\n"
     ]
    },
    {
     "name": "stderr",
     "output_type": "stream",
     "text": [
      "Epoch 51, batch loss: 1.2297353744506836: 100%|██████████████████████████████████████| 529/529 [16:09<00:00,  1.83s/it]\n"
     ]
    },
    {
     "name": "stdout",
     "output_type": "stream",
     "text": [
      "Testing begins...\n"
     ]
    },
    {
     "name": "stderr",
     "output_type": "stream",
     "text": [
      "100%|██████████████████████████████████████████████████████████████████████████████████| 62/62 [01:26<00:00,  1.40s/it]\n"
     ]
    },
    {
     "name": "stdout",
     "output_type": "stream",
     "text": [
      "Epoch 51, train loss 1.2939803563869816, test rmse 1.131687302250005\n"
     ]
    },
    {
     "name": "stderr",
     "output_type": "stream",
     "text": [
      "Epoch 52, batch loss: 1.3351579904556274: 100%|██████████████████████████████████████| 529/529 [16:15<00:00,  1.84s/it]\n"
     ]
    },
    {
     "name": "stdout",
     "output_type": "stream",
     "text": [
      "Testing begins...\n"
     ]
    },
    {
     "name": "stderr",
     "output_type": "stream",
     "text": [
      "100%|██████████████████████████████████████████████████████████████████████████████████| 62/62 [01:26<00:00,  1.40s/it]\n"
     ]
    },
    {
     "name": "stdout",
     "output_type": "stream",
     "text": [
      "Epoch 52, train loss 1.2932021237341194, test rmse 1.132086826427074\n"
     ]
    },
    {
     "name": "stderr",
     "output_type": "stream",
     "text": [
      "Epoch 53, batch loss: 1.3345097303390503: 100%|██████████████████████████████████████| 529/529 [16:22<00:00,  1.86s/it]\n"
     ]
    },
    {
     "name": "stdout",
     "output_type": "stream",
     "text": [
      "Testing begins...\n"
     ]
    },
    {
     "name": "stderr",
     "output_type": "stream",
     "text": [
      "100%|██████████████████████████████████████████████████████████████████████████████████| 62/62 [01:27<00:00,  1.41s/it]\n"
     ]
    },
    {
     "name": "stdout",
     "output_type": "stream",
     "text": [
      "Epoch 53, train loss 1.2930382808228293, test rmse 1.1317623093047846\n"
     ]
    },
    {
     "name": "stderr",
     "output_type": "stream",
     "text": [
      "Epoch 54, batch loss: 1.3099827766418457: 100%|██████████████████████████████████████| 529/529 [16:18<00:00,  1.85s/it]\n"
     ]
    },
    {
     "name": "stdout",
     "output_type": "stream",
     "text": [
      "Testing begins...\n"
     ]
    },
    {
     "name": "stderr",
     "output_type": "stream",
     "text": [
      "100%|██████████████████████████████████████████████████████████████████████████████████| 62/62 [01:27<00:00,  1.41s/it]\n"
     ]
    },
    {
     "name": "stdout",
     "output_type": "stream",
     "text": [
      "Epoch 54, train loss 1.2919216353215115, test rmse 1.1312620970549088\n"
     ]
    },
    {
     "name": "stderr",
     "output_type": "stream",
     "text": [
      "Epoch 55, batch loss: 1.2497416734695435: 100%|██████████████████████████████████████| 529/529 [16:18<00:00,  1.85s/it]\n"
     ]
    },
    {
     "name": "stdout",
     "output_type": "stream",
     "text": [
      "Testing begins...\n"
     ]
    },
    {
     "name": "stderr",
     "output_type": "stream",
     "text": [
      "100%|██████████████████████████████████████████████████████████████████████████████████| 62/62 [01:27<00:00,  1.40s/it]\n"
     ]
    },
    {
     "name": "stdout",
     "output_type": "stream",
     "text": [
      "Epoch 55, train loss 1.292296425327048, test rmse 1.1315379537559953\n"
     ]
    },
    {
     "name": "stderr",
     "output_type": "stream",
     "text": [
      "Epoch 56, batch loss: 1.2765785455703735: 100%|██████████████████████████████████████| 529/529 [16:20<00:00,  1.85s/it]\n"
     ]
    },
    {
     "name": "stdout",
     "output_type": "stream",
     "text": [
      "Testing begins...\n"
     ]
    },
    {
     "name": "stderr",
     "output_type": "stream",
     "text": [
      "100%|██████████████████████████████████████████████████████████████████████████████████| 62/62 [01:27<00:00,  1.41s/it]\n"
     ]
    },
    {
     "name": "stdout",
     "output_type": "stream",
     "text": [
      "Epoch 56, train loss 1.292266667779752, test rmse 1.131012702575656\n"
     ]
    },
    {
     "name": "stderr",
     "output_type": "stream",
     "text": [
      "Epoch 57, batch loss: 1.306416392326355: 100%|███████████████████████████████████████| 529/529 [16:17<00:00,  1.85s/it]\n"
     ]
    },
    {
     "name": "stdout",
     "output_type": "stream",
     "text": [
      "Testing begins...\n"
     ]
    },
    {
     "name": "stderr",
     "output_type": "stream",
     "text": [
      "100%|██████████████████████████████████████████████████████████████████████████████████| 62/62 [01:27<00:00,  1.41s/it]\n"
     ]
    },
    {
     "name": "stdout",
     "output_type": "stream",
     "text": [
      "Epoch 57, train loss 1.2909249889943042, test rmse 1.1314479956709083\n"
     ]
    },
    {
     "name": "stderr",
     "output_type": "stream",
     "text": [
      "Epoch 58, batch loss: 1.3297616243362427: 100%|██████████████████████████████████████| 529/529 [16:16<00:00,  1.85s/it]\n"
     ]
    },
    {
     "name": "stdout",
     "output_type": "stream",
     "text": [
      "Testing begins...\n"
     ]
    },
    {
     "name": "stderr",
     "output_type": "stream",
     "text": [
      "100%|██████████████████████████████████████████████████████████████████████████████████| 62/62 [01:27<00:00,  1.40s/it]\n"
     ]
    },
    {
     "name": "stdout",
     "output_type": "stream",
     "text": [
      "Epoch 58, train loss 1.2921283961344592, test rmse 1.131129583316326\n"
     ]
    },
    {
     "name": "stderr",
     "output_type": "stream",
     "text": [
      "Epoch 59, batch loss: 1.263728380203247: 100%|███████████████████████████████████████| 529/529 [16:17<00:00,  1.85s/it]\n"
     ]
    },
    {
     "name": "stdout",
     "output_type": "stream",
     "text": [
      "Testing begins...\n"
     ]
    },
    {
     "name": "stderr",
     "output_type": "stream",
     "text": [
      "100%|██████████████████████████████████████████████████████████████████████████████████| 62/62 [01:27<00:00,  1.40s/it]\n"
     ]
    },
    {
     "name": "stdout",
     "output_type": "stream",
     "text": [
      "Epoch 59, train loss 1.2908682942426108, test rmse 1.130619317318592\n"
     ]
    },
    {
     "name": "stderr",
     "output_type": "stream",
     "text": [
      "Epoch 60, batch loss: 1.2981491088867188: 100%|██████████████████████████████████████| 529/529 [16:15<00:00,  1.84s/it]\n"
     ]
    },
    {
     "name": "stdout",
     "output_type": "stream",
     "text": [
      "Testing begins...\n"
     ]
    },
    {
     "name": "stderr",
     "output_type": "stream",
     "text": [
      "100%|██████████████████████████████████████████████████████████████████████████████████| 62/62 [01:26<00:00,  1.40s/it]"
     ]
    },
    {
     "name": "stdout",
     "output_type": "stream",
     "text": [
      "Epoch 60, train loss 1.2914090784875392, test rmse 1.1311794715107348\n",
      "Saving model states...\n",
      "Final Test RMSE: 1.131179, Duration: 67288.455755\n"
     ]
    },
    {
     "name": "stderr",
     "output_type": "stream",
     "text": [
      "\n"
     ]
    },
    {
     "data": {
      "text/plain": [
       "1.1311794715107348"
      ]
     },
     "execution_count": 26,
     "metadata": {},
     "output_type": "execute_result"
    }
   ],
   "source": [
    "train_multiple_epochs(\n",
    "    train_graphs,\n",
    "    test_graphs,\n",
    "    model,\n",
    "    epochs, \n",
    "    batch_size, \n",
    "    lr, \n",
    "    lr_decay_factor= lr_decay_factor, \n",
    "    lr_decay_step_size=lr_decay_step_size, \n",
    "    weight_decay=0, \n",
    "    ARR= ARR, \n",
    "    test_freq=test_freq, \n",
    "    logger=logger, \n",
    "    continue_from=None, \n",
    "    res_dir=res_dir\n",
    ")"
   ]
  },
  {
   "cell_type": "code",
   "execution_count": null,
   "id": "af6833fb",
   "metadata": {},
   "outputs": [],
   "source": []
  },
  {
   "cell_type": "code",
   "execution_count": 18,
   "id": "6a9b694b",
   "metadata": {},
   "outputs": [],
   "source": [
    "def load_model(res_dir,epoch,model):\n",
    "    model_name = os.path.join(res_dir, 'model_checkpoint{}.pth'.format(epoch))\n",
    "    model.load_state_dict(torch.load(model_name))\n",
    "    return model"
   ]
  },
  {
   "cell_type": "code",
   "execution_count": 19,
   "id": "e11a3000",
   "metadata": {},
   "outputs": [],
   "source": [
    "PGN_model = load_model('Data', '60', model)"
   ]
  },
  {
   "cell_type": "code",
   "execution_count": 20,
   "id": "a12d32e1",
   "metadata": {},
   "outputs": [],
   "source": [
    "PGN_model = PGN_model.to(device)"
   ]
  },
  {
   "cell_type": "code",
   "execution_count": 21,
   "id": "2c97da7c",
   "metadata": {},
   "outputs": [],
   "source": [
    "def test_func(dataset, model):\n",
    "    ground_truth = []\n",
    "    prediction = []\n",
    "    prob = [] \n",
    "    model.eval()\n",
    "    with torch.no_grad():\n",
    "        for data in tqdm(dataset):\n",
    "            data.to(device)\n",
    "            ground_truth.append(data.y.tolist()[0])\n",
    "            res, _, _ = model(data)\n",
    "            prediction.append(res.argmax().tolist()+1)\n",
    "            prob.append(res.sigmoid().tolist())\n",
    "    return ground_truth, prediction, prob"
   ]
  },
  {
   "cell_type": "code",
   "execution_count": 44,
   "id": "9f4f29d1",
   "metadata": {},
   "outputs": [
    {
     "name": "stderr",
     "output_type": "stream",
     "text": [
      "  6%|████▍                                                                        | 1807/31665 [00:33<08:58, 55.47it/s]C:\\Users\\yli62\\AppData\\Local\\Temp/ipykernel_10596/1334874663.py:24: DeprecationWarning: Sampling from a set deprecated\n",
      "since Python 3.9 and will be removed in a subsequent version.\n",
      "  u_fringe = random.sample(u_fringe, max_nodes_per_hop)\n",
      "100%|████████████████████████████████████████████████████████████████████████████| 31665/31665 [10:41<00:00, 49.37it/s]\n"
     ]
    }
   ],
   "source": [
    "ground_truth, prediction,prob = test_func(test_graphs, model)"
   ]
  },
  {
   "cell_type": "code",
   "execution_count": 45,
   "id": "ef45ef50",
   "metadata": {},
   "outputs": [],
   "source": [
    "prob = [u[0] for u in prob]"
   ]
  },
  {
   "cell_type": "code",
   "execution_count": 46,
   "id": "c755cb0d",
   "metadata": {},
   "outputs": [],
   "source": [
    "def redistribute(sub):\n",
    "    temp = []\n",
    "    all_val = sum(sub)\n",
    "    for i in sub:\n",
    "        temp.append(i/all_val)\n",
    "    return temp"
   ]
  },
  {
   "cell_type": "code",
   "execution_count": 47,
   "id": "1d6027b3",
   "metadata": {},
   "outputs": [],
   "source": [
    "prob_final = [redistribute(i) for i in prob]"
   ]
  },
  {
   "cell_type": "code",
   "execution_count": 49,
   "id": "49627c72",
   "metadata": {},
   "outputs": [
    {
     "name": "stdout",
     "output_type": "stream",
     "text": [
      "              precision    recall  f1-score   support\n",
      "\n",
      "         1.0       0.49      0.19      0.28      2847\n",
      "         2.0       0.22      0.00      0.00      2815\n",
      "         3.0       0.33      0.01      0.03      4458\n",
      "         4.0       0.36      0.60      0.45      9043\n",
      "         5.0       0.55      0.68      0.61     12502\n",
      "\n",
      "    accuracy                           0.46     31665\n",
      "   macro avg       0.39      0.30      0.27     31665\n",
      "weighted avg       0.43      0.46      0.40     31665\n",
      "\n"
     ]
    }
   ],
   "source": [
    "print(classification_report(ground_truth, prediction))"
   ]
  },
  {
   "cell_type": "code",
   "execution_count": 48,
   "id": "ca7e720c",
   "metadata": {},
   "outputs": [
    {
     "name": "stdout",
     "output_type": "stream",
     "text": [
      "The Recall score is : 0.45896099794726036\n",
      "The AUC score is : 0.7008904156659987\n"
     ]
    }
   ],
   "source": [
    "# Test 5 with Transformer 1 layers  60 epochs  1.1311794715107348\n",
    "from sklearn.metrics import recall_score,roc_auc_score, classification_report\n",
    "target_names = ['1', '2', '3', '4','5']\n",
    "print('The Recall score is :',recall_score(ground_truth, prediction,average='weighted'))\n",
    "print('The AUC score is :',roc_auc_score(ground_truth, prob_final,multi_class='ovr',average='weighted'))"
   ]
  },
  {
   "cell_type": "code",
   "execution_count": 28,
   "id": "ab2cc512",
   "metadata": {},
   "outputs": [
    {
     "name": "stdout",
     "output_type": "stream",
     "text": [
      "The Recall score is : 0.4509079425232907\n",
      "The AUC score is : 0.6933140866899228\n"
     ]
    }
   ],
   "source": [
    "# Test 3 with Transformer  1.1355201454880723\n",
    "from sklearn.metrics import recall_score,roc_auc_score\n",
    "target_names = ['1', '2', '3', '4','5']\n",
    "print('The Recall score is :',recall_score(ground_truth, prediction,average='weighted'))\n",
    "print('The AUC score is :',roc_auc_score(ground_truth, prob_final,multi_class='ovr',average='weighted'))"
   ]
  },
  {
   "cell_type": "code",
   "execution_count": 29,
   "id": "b950baf5",
   "metadata": {},
   "outputs": [
    {
     "name": "stdout",
     "output_type": "stream",
     "text": [
      "The Recall score is : 0.44860255802937\n",
      "The AUC score is : 0.6901325588624396\n"
     ]
    }
   ],
   "source": [
    "# Test 2 with LSTM  1.137\n",
    "from sklearn.metrics import recall_score,roc_auc_score\n",
    "target_names = ['1', '2', '3', '4','5']\n",
    "print('The Recall score is :',recall_score(ground_truth, prediction,average='weighted'))\n",
    "print('The AUC score is :',roc_auc_score(ground_truth, prob_final,multi_class='ovr',average='weighted'))"
   ]
  },
  {
   "cell_type": "code",
   "execution_count": 317,
   "id": "b94d43a1",
   "metadata": {
    "scrolled": true
   },
   "outputs": [
    {
     "name": "stdout",
     "output_type": "stream",
     "text": [
      "The Recall score is : 0.40101057950418445\n",
      "The AUC score is : 0.5939452672311253\n"
     ]
    }
   ],
   "source": [
    "# Test 1 without LSTM 1.179\n",
    "from sklearn.metrics import recall_score,roc_auc_score\n",
    "target_names = ['1', '2', '3', '4','5']\n",
    "print('The Recall score is :',recall_score(ground_truth, prediction,average='weighted'))\n",
    "print('The AUC score is :',roc_a uc_score(ground_truth, prob_final,multi_class='ovr',average='weighted'))"
   ]
  },
  {
   "cell_type": "code",
   "execution_count": 23,
   "id": "478a1cb0",
   "metadata": {},
   "outputs": [],
   "source": [
    "import faiss\n",
    "import json\n",
    "import torch\n",
    "from tqdm import tqdm\n",
    "from transformers import AutoTokenizer, AutoModel\n",
    "\n",
    "u_dict = json.load( open( \"Data/u_dict.json\" ) )\n",
    "v_dict = json.load( open( \"Data/v_dict.json\" ) )\n",
    "model_name = \"sentence-transformers/distilbert-base-nli-mean-tokens\"\n",
    "tokenizer = AutoTokenizer.from_pretrained(model_name)\n",
    "model_encoder = AutoModel.from_pretrained(model_name).to(device) \n",
    "\n",
    "class Generate_dataset(Dataset):\n",
    "    def __init__(self, data,tokenizer,device, type):\n",
    "        self.data = data\n",
    "        self.device = device\n",
    "        self.tokenizer = tokenizer\n",
    "        self.type = type\n",
    "    def __len__(self):\n",
    "        return len(self.data)\n",
    "\n",
    "    def __getitem__(self, idx):\n",
    "        if torch.is_tensor(idx):\n",
    "            idx = idx.tolist()\n",
    "        if self.type == 'list':\n",
    "            content = self.data[idx]\n",
    "        elif self.type == 'dataframe':\n",
    "            content = self.data.iloc[idx][0]\n",
    "        content_encoded_input = self.tokenizer(content, padding='max_length', truncation=True,\n",
    "                                               max_length=256)\n",
    "        input_ids = torch.tensor(content_encoded_input['input_ids']).to(self.device)\n",
    "        attention_mask = torch.tensor(content_encoded_input['attention_mask']).to(self.device)\n",
    "        sample = {'input_ids': input_ids, 'attention_mask': attention_mask}\n",
    "        return sample\n",
    "\n",
    "\n",
    "class Sentence_encoding():\n",
    "    \n",
    "    def __init__(self, model, tokenizer,device):\n",
    "        self.model = model\n",
    "        self.tokenizer = tokenizer\n",
    "        self.device = device \n",
    "    #Mean Pooling - Take attention mask into account for correct averaging\n",
    "    def mean_pooling(self,model_output, attention_mask):\n",
    "        token_embeddings = model_output[0] #First element of model_output contains all token embeddings\n",
    "        input_mask_expanded = attention_mask.unsqueeze(-1).expand(token_embeddings.size()).float()\n",
    "        sum_embeddings = torch.sum(token_embeddings * input_mask_expanded, 1)\n",
    "        sum_mask = torch.clamp(input_mask_expanded.sum(1), min=1e-9)\n",
    "        return sum_embeddings / sum_mask\n",
    "\n",
    "    def encode(self, final_content, batch_size, type):\n",
    "        dataset = Generate_dataset(final_content, self.tokenizer, self.device, type)\n",
    "        dataloader = DataLoader(dataset, batch_size=batch_size, shuffle=False)\n",
    "        if type == 'list':\n",
    "            outputs = []\n",
    "            self.model.eval()\n",
    "            with torch.no_grad():\n",
    "                for data in tqdm(dataloader):\n",
    "                    model_output = self.model(input_ids=data['input_ids'], attention_mask=data['attention_mask'])\n",
    "                    sentence_embeddings = self.mean_pooling(model_output, data['attention_mask'])\n",
    "                    outputs.append(sentence_embeddings)\n",
    "            return torch.cat(outputs, dim=0)\n",
    "        elif type == 'dataframe':\n",
    "            outputs = {}\n",
    "            temp_index = 0\n",
    "            for data in tqdm(dataloader):\n",
    "                with torch.no_grad():\n",
    "                    model_output = self.model(input_ids=data['input_ids'], attention_mask=data['attention_mask'])\n",
    "                    sentence_embeddings = self.mean_pooling(model_output, data['attention_mask'])\n",
    "                    for index, i in enumerate(sentence_embeddings):\n",
    "                        final_index = temp_index + index\n",
    "                        outputs[final_content['News_ID'][final_index]] = sentence_embeddings[index].tolist()\n",
    "                    temp_index+=batch_size\n",
    "            return outputs\n",
    "\n",
    "\n",
    "def request_encoder(request,model,tokenizer, device):\n",
    "    model.eval()\n",
    "    encoder = Sentence_encoding(model, tokenizer,device)\n",
    "    final_items_embedding = encoder.encode([request],1,'list')\n",
    "    return final_items_embedding[0].tolist()\n",
    "\n",
    "def Faiss_search(new_item_feature,request_embedding, TopN):\n",
    "    embeddings = np.array([embedding for embedding in list(new_item_feature.values())]).astype(\"float32\")\n",
    "    # Step 2: Instantiate the index\n",
    "    index = faiss.IndexFlatL2(embeddings.shape[1])\n",
    "\n",
    "    # Step 3: Pass the index to IndexIDMap\n",
    "    index = faiss.IndexIDMap(index)\n",
    "\n",
    "    # Step 4: Add vectors and their IDs\n",
    "    ids_dic = {index:val for index, val in enumerate(new_item_feature.keys())} \n",
    "    \n",
    "    \n",
    "    IDs = np.array(list(ids_dic.keys()))\n",
    "    IDs = np.asarray(IDs.astype('int64'))\n",
    "    index.add_with_ids(embeddings, IDs)\n",
    "\n",
    "    # Retrieve the 10 nearest neighbours\n",
    "    D, I = index.search(np.array([request_embedding]).astype(\"float32\"), k=TopN)\n",
    "    searched_ID = [ids_dic[i] for i in I[0]][::-1]\n",
    "    return searched_ID\n"
   ]
  },
  {
   "cell_type": "code",
   "execution_count": 24,
   "id": "d3cf1cef",
   "metadata": {},
   "outputs": [],
   "source": [
    "new_item_feature =  json.load( open( \"Data/new_item_feature.json\" ) )"
   ]
  },
  {
   "cell_type": "code",
   "execution_count": 25,
   "id": "ed2f1037",
   "metadata": {},
   "outputs": [],
   "source": [
    "all_graphs = train_graphs + test_graphs + val_graphs"
   ]
  },
  {
   "cell_type": "code",
   "execution_count": 27,
   "id": "765bdbb1",
   "metadata": {},
   "outputs": [],
   "source": [
    "def embedding_generation(dataset, model, device):\n",
    "    # Note: Add mean pooling on multi_user embeddding \n",
    "    user_embedding = {}\n",
    "    item_embedding = {}\n",
    "    model.to(device)\n",
    "    model.eval()\n",
    "    with torch.no_grad():\n",
    "        for data in tqdm(dataset):\n",
    "            data = data.to(device)  \n",
    "            user_idx = data.user_index.tolist()[0]\n",
    "            item_idx = data.item_index.tolist()[0]\n",
    "            _, user_feature, item_feature = model(data)\n",
    "        \n",
    "            if user_idx not in user_embedding:\n",
    "                user_embedding[user_idx] = [user_feature.tolist()]\n",
    "            else:\n",
    "                user_embedding[user_idx].append(user_feature.tolist())\n",
    "                user_embedding[user_idx] = [np.mean(user_embedding[user_idx], axis=0).tolist()]\n",
    "                    \n",
    "            if item_idx not in item_embedding:\n",
    "                item_embedding[item_idx] = [item_feature.tolist()]\n",
    "            else:\n",
    "                item_embedding[item_idx].append(item_feature.tolist())\n",
    "                item_embedding[item_idx] = [np.mean(item_embedding[item_idx], axis=0).tolist()]\n",
    "\n",
    "    return user_embedding, item_embedding"
   ]
  },
  {
   "cell_type": "code",
   "execution_count": 28,
   "id": "382f0185",
   "metadata": {},
   "outputs": [
    {
     "name": "stderr",
     "output_type": "stream",
     "text": [
      "  0%|                                                                                       | 0/316643 [00:00<?, ?it/s]C:\\Users\\yli62\\AppData\\Local\\Temp/ipykernel_11196/1334874663.py:24: DeprecationWarning: Sampling from a set deprecated\n",
      "since Python 3.9 and will be removed in a subsequent version.\n",
      "  u_fringe = random.sample(u_fringe, max_nodes_per_hop)\n",
      "100%|████████████████████████████████████████████████████████████████████████| 316643/316643 [1:45:35<00:00, 49.98it/s]\n"
     ]
    }
   ],
   "source": [
    "user_embedding, item_embedding = embedding_generation(all_graphs, PGN_model,device) "
   ]
  },
  {
   "cell_type": "code",
   "execution_count": 29,
   "id": "3766ee98",
   "metadata": {},
   "outputs": [],
   "source": [
    "import json\n",
    "json.dump(user_embedding, open( \"Data/user_embedding.json\", 'w' ))\n",
    "json.dump(item_embedding, open( \"Data/item_embedding.json\", 'w' ))"
   ]
  },
  {
   "cell_type": "code",
   "execution_count": null,
   "id": "b97a67cd",
   "metadata": {},
   "outputs": [],
   "source": []
  },
  {
   "cell_type": "code",
   "execution_count": null,
   "id": "10a0e2f3",
   "metadata": {},
   "outputs": [],
   "source": []
  },
  {
   "cell_type": "code",
   "execution_count": 323,
   "id": "dd44563c",
   "metadata": {},
   "outputs": [],
   "source": [
    "request = 'I like burger'"
   ]
  },
  {
   "cell_type": "code",
   "execution_count": 324,
   "id": "dddf7d5d",
   "metadata": {},
   "outputs": [
    {
     "name": "stderr",
     "output_type": "stream",
     "text": [
      "100%|████████████████████████████████████████████████████████████████████████████████████| 1/1 [00:00<00:00, 41.66it/s]\n"
     ]
    }
   ],
   "source": [
    "request_embedding = request_encoder(request,model_encoder,tokenizer, device)"
   ]
  },
  {
   "cell_type": "code",
   "execution_count": 325,
   "id": "3e77204e",
   "metadata": {},
   "outputs": [],
   "source": [
    "searched_ID = Faiss_search(new_item_feature,request_embedding,10)"
   ]
  },
  {
   "cell_type": "code",
   "execution_count": 326,
   "id": "50461c95",
   "metadata": {},
   "outputs": [
    {
     "data": {
      "text/plain": [
       "['UMhG2ZgaMfO87ZA4tK5R2g',\n",
       " 'A3L8y6oFYmQ0Y_rgYtALQw',\n",
       " 'h-OCXyTUmbjHBe3ZWhK5XA',\n",
       " 'easzRCwj5Yl-SZxvutO49A',\n",
       " 'jf7zO4pMnCfpD2JGgfm-rA',\n",
       " 'iiHcYdhd1CeDJjFZVCtKgg',\n",
       " 'tBzepeF8bA5_9x7gVwSSNA',\n",
       " 'YBmfgMQStAONguXf9BEahQ',\n",
       " '07DtbcT6edW50n0diKVFiw',\n",
       " 'y9ciWZ9li7Ni9eN1E1Je_g']"
      ]
     },
     "execution_count": 326,
     "metadata": {},
     "output_type": "execute_result"
    }
   ],
   "source": [
    "searched_ID "
   ]
  },
  {
   "cell_type": "code",
   "execution_count": 327,
   "id": "e2f844d4",
   "metadata": {},
   "outputs": [
    {
     "name": "stdout",
     "output_type": "stream",
     "text": [
      "The business offers Restaurants, Pizza. The business Westview Pizza Cafe located at 1550 Ralph David Abernathy Blvd SW,Atlanta,GA,30310. RestaurantsReservations is True. BusinessAcceptsCreditCards is True. OutdoorSeating is True. RestaurantsDelivery is True. RestaurantsTakeOut is True. HasTV is True. RestaurantsGoodForGroups is True. GoodForKids is True. RestaurantsAttire is 'casual'. BikeParking is True. RestaurantsPriceRange2 is 1. \n",
      "The business offers Restaurants, Burgers, American (Traditional). The business Dick's Primal Burger located at 4318 NE Cully Blvd,Portland,OR,97218. RestaurantsTakeOut is True. OutdoorSeating is True. RestaurantsDelivery is True. \n",
      "The business offers Chicken Wings, Italian, Restaurants, Pizza, Hot Dogs. The business Hungry Howie's Pizza & Subs located at 207 North Clarke Rd,Ocoee,FL,34761. NoiseLevel is u'average'. RestaurantsTakeOut is True. RestaurantsDelivery is True. RestaurantsGoodForGroups is True. \n",
      "The business offers Vegetarian, Vegan, Salad, Restaurants. The business sweetgreen located at 1601 Pearl St,Boulder,CO,80302. Caters is True. RestaurantsTakeOut is True. BusinessAcceptsCreditCards is True. RestaurantsDelivery is True. \n",
      "The business offers Pizza, Sandwiches, Restaurants. The business Friendly Eating Place located at 985 Massachusetts Ave,Cambridge,MA,02138. RestaurantsTakeOut is True. \n",
      "The business offers Restaurants, Burgers, Fast Food. The business Buddy's Burger located at 9001 Cameron Rd, Ste 101,Austin,TX,78754. \n",
      "The business offers Restaurants, Burgers. The business BurgerIM located at 2929 N Druid Hills Rd NE F,Atlanta,GA,30329. RestaurantsTakeOut is True. BusinessAcceptsCreditCards is True. Caters is True. RestaurantsDelivery is True. OutdoorSeating is True. \n",
      "The business offers Food, Restaurants, Food Delivery Services, Burgers. The business MrBeast Burger located at ,Austin,TX,78759. RestaurantsDelivery is True. \n",
      "The business offers Burgers, Restaurants. The business Burger Joe's located at 1369 Clairmont Rd,Decatur,GA,30033. \n",
      "The business offers Burgers, Food, Food Delivery Services, Restaurants. The business MrBeast Burger located at ,Medford,MA,02155. RestaurantsDelivery is True. \n"
     ]
    }
   ],
   "source": [
    "for i in searched_ID:\n",
    "    print(final_item_feature[i])"
   ]
  },
  {
   "cell_type": "code",
   "execution_count": 328,
   "id": "08eb5199",
   "metadata": {},
   "outputs": [],
   "source": [
    "Item_ID = [v_dict[i] for i in searched_ID]"
   ]
  },
  {
   "cell_type": "code",
   "execution_count": 329,
   "id": "6a61f72e",
   "metadata": {},
   "outputs": [
    {
     "data": {
      "text/plain": [
       "[37700, 13239, 54093, 51239, 57262, 56112, 68553, 42206, 1338, 74499]"
      ]
     },
     "execution_count": 329,
     "metadata": {},
     "output_type": "execute_result"
    }
   ],
   "source": [
    "Item_ID"
   ]
  },
  {
   "cell_type": "code",
   "execution_count": 330,
   "id": "4986853b",
   "metadata": {},
   "outputs": [],
   "source": [
    "final_valid_items = []\n",
    "for i in Item_ID:\n",
    "    if i in item_embedding.keys():\n",
    "        final_valid_items.append(i)"
   ]
  },
  {
   "cell_type": "code",
   "execution_count": 331,
   "id": "67aae435",
   "metadata": {},
   "outputs": [],
   "source": [
    "final_valid_items_embeddings = [item_embedding[i] for i in final_valid_items]"
   ]
  },
  {
   "cell_type": "code",
   "execution_count": 332,
   "id": "e9d3fe01",
   "metadata": {},
   "outputs": [],
   "source": [
    "class Rate_model(torch.nn.Module):\n",
    "    def __init__(self, pretrained_model):\n",
    "        super(Rate_model, self).__init__()\n",
    "        self.lin1 = pretrained_model.lin1\n",
    "        self.lin2 = pretrained_model.lin1_2\n",
    "        self.lin3 = pretrained_model.lin2\n",
    "    def forward(self, item_feature, user_feature):\n",
    "        x = torch.cat([user_feature, item_feature], 1)\n",
    "        x = F.relu(self.lin1(x))\n",
    "        x = F.dropout(x, p=0.5, training=self.training)\n",
    "        x = F.relu(self.lin2(x))\n",
    "        x = F.dropout(x, p=0.4, training=self.training)\n",
    "        x = self.lin3(x)\n",
    "        return F.log_softmax(x, dim=-1).sigmoid()\n",
    "# Could implement multi_item comparision"
   ]
  },
  {
   "cell_type": "code",
   "execution_count": 333,
   "id": "98355e7b",
   "metadata": {},
   "outputs": [],
   "source": [
    "def evalutate_candidate_user(model, valid_item_embeddins, user_embedding):\n",
    "    all_recommend = []\n",
    "    model.eval()\n",
    "    with torch.no_grad():\n",
    "        for item in valid_item_embeddins:\n",
    "            user_rank = {}\n",
    "            for user in tqdm(user_embedding.keys()):\n",
    "                user_emb, item_emb = torch.tensor(user_embedding[user]).to(device), torch.tensor(item).to(device)\n",
    "                rank_score = model(item_emb[0], user_emb[0])\n",
    "                user_rank[user] = [rank_score.tolist()[0][-1]]\n",
    "            all_recommend.append(user_rank)\n",
    "    return all_recommend\n",
    "# Add batch for speed up"
   ]
  },
  {
   "cell_type": "code",
   "execution_count": 334,
   "id": "c9fe74fe",
   "metadata": {},
   "outputs": [],
   "source": [
    "rate_model = Rate_model(PGN_model).to(device)"
   ]
  },
  {
   "cell_type": "code",
   "execution_count": null,
   "id": "9cff0c40",
   "metadata": {
    "scrolled": true
   },
   "outputs": [
    {
     "name": "stderr",
     "output_type": "stream",
     "text": [
      "100%|██████████████████████████████████████████████████████████████████████████| 10001/10001 [00:04<00:00, 2012.26it/s]\n",
      "100%|██████████████████████████████████████████████████████████████████████████| 10001/10001 [00:04<00:00, 2025.20it/s]\n",
      " 12%|█████████▎                                                                 | 1238/10001 [00:00<00:04, 2037.80it/s]"
     ]
    }
   ],
   "source": [
    "all_recommend = evalutate_candidate_user(rate_model, final_valid_items_embeddings, user_embedding)"
   ]
  },
  {
   "cell_type": "code",
   "execution_count": null,
   "id": "0c0f8928",
   "metadata": {},
   "outputs": [],
   "source": [
    "import operator\n",
    "N = 10\n",
    "u_dict_revserd = {v: k for k, v in u_dict.items()}\n",
    "all_users_recommend = []\n",
    "for user_rank in all_recommend:\n",
    "    sorted_user_rank = sorted(user_rank.items(), key=lambda x: x[1], reverse=True)\n",
    "    TopN_user = [u_dict_revserd[i] for i in [item[0] for item in sorted_user_rank[:N]]]\n",
    "    all_users_recommend.append(TopN_user)"
   ]
  },
  {
   "cell_type": "code",
   "execution_count": null,
   "id": "e9348c70",
   "metadata": {},
   "outputs": [],
   "source": [
    "result = set(all_users_recommend[0])\n",
    "for s in all_users_recommend[1:]:\n",
    "    result.intersection_update(s)\n",
    "TopN_user = list(result)"
   ]
  },
  {
   "cell_type": "code",
   "execution_count": null,
   "id": "ce4e9ba0",
   "metadata": {},
   "outputs": [],
   "source": [
    "TopN_user"
   ]
  },
  {
   "cell_type": "code",
   "execution_count": null,
   "id": "2dfa0890",
   "metadata": {},
   "outputs": [],
   "source": [
    "TopN_user"
   ]
  },
  {
   "cell_type": "code",
   "execution_count": null,
   "id": "f6f870de",
   "metadata": {},
   "outputs": [],
   "source": [
    "# I want to eat burger\n",
    "for i in TopN_user:\n",
    "    if 'friend' in final_user_feature_dic[i]:   \n",
    "        del final_user_feature_dic[i]['friends']\n",
    "    \n",
    "    print(final_user_feature_dic[i])\n",
    "    users_items = edge_index[i]\n",
    "    for item in users_items:\n",
    "        print(final_item_feature_dic[item]['categories'])\n",
    "    print('---------')"
   ]
  },
  {
   "cell_type": "code",
   "execution_count": 322,
   "id": "68ffe9a3",
   "metadata": {
    "scrolled": true
   },
   "outputs": [
    {
     "name": "stdout",
     "output_type": "stream",
     "text": [
      "{'name': 'Elin', 'review_count': 70, 'yelping_since': '2011-08-22 01:33:06', 'useful': 24, 'funny': 5, 'cool': 3, 'elite': '', 'fans': 0, 'average_stars': 4.96, 'compliment_hot': 0, 'compliment_more': 0, 'compliment_profile': 0, 'compliment_cute': 0, 'compliment_list': 0, 'compliment_note': 0, 'compliment_plain': 0, 'compliment_cool': 0, 'compliment_funny': 0, 'compliment_writer': 0, 'compliment_photos': 0}\n",
      "Restaurants, Food, Coffee & Tea\n",
      "Pubs, Cocktail Bars, Bars, American (Traditional), Fish & Chips, Restaurants, Breakfast & Brunch, Seafood, Pool Halls, Nightlife\n",
      "Restaurants, Mediterranean, Halal, Middle Eastern\n",
      "Food, Coffee & Tea\n",
      "Beer, Wine & Spirits, Cocktail Bars, Italian, Nightlife, Restaurants, Wine Bars, Food, French, Bars\n",
      "German, American (New), Restaurants\n",
      "Beer, Wine & Spirits, Cocktail Bars, Italian, Nightlife, Restaurants, Wine Bars, Food, French, Bars\n",
      "Pediatric Dentists, Cosmetic Dentists, General Dentistry, Dentists, Health & Medical\n",
      "Pediatric Dentists, Cosmetic Dentists, General Dentistry, Dentists, Health & Medical\n",
      "Taiwanese, Food, Chinese, Food Trucks, Restaurants\n",
      "Food, Lounges, Bars, Nightlife\n",
      "Car Rental, Hotels & Travel\n",
      "Chocolatiers & Shops, Food, Specialty Food, Restaurants, Desserts, Coffee & Tea\n",
      "Contractors, Home Services, Home Cleaning, Electricians, Heating & Air Conditioning/HVAC\n",
      "Pet Sitting, Pet Stores, Pets, Pet Services, Veterinarians\n",
      "Pet Sitting, Pet Stores, Pets, Pet Services, Veterinarians\n",
      "Pet Sitting, Pet Stores, Pets, Pet Services, Veterinarians\n",
      "Indian, Pakistani, Restaurants, Vegan, Vegetarian, Buffets\n",
      "Restaurants, Asian Fusion, Korean, Vegetarian, Salad, Soup\n",
      "Food, Bakeries, Restaurants, Coffee & Tea, Sandwiches, Cafes, Pizza, French\n",
      "Plumbing, Home Services\n",
      "Indian, Pakistani, Restaurants, Vegan, Vegetarian, Buffets\n",
      "Coffee & Tea, Food\n",
      "Coffee & Tea, Food\n",
      "American (New), Beer, Wine & Spirits, Nightlife, Restaurants, Breakfast & Brunch, Wine Bars, Food, Bars, Beer Bar, Coffee & Tea\n",
      "Food, Desserts\n",
      "Cafes, Gluten-Free, Breakfast & Brunch, Restaurants, Food, Coffee & Tea\n",
      "Food, Drugstores, Shopping, Fashion, Grocery, Department Stores\n",
      "Boating, Active Life\n",
      "Mexican, Nightlife, Bars, Restaurants\n",
      "Food, Shopping Centers, Grocery, Shopping\n",
      "Restaurants, Japanese\n",
      "Restaurants, Breakfast & Brunch, Nightlife, American (New)\n",
      "Bakeries, Antiques, Restaurants, Coffee & Tea, Shopping, Gluten-Free, Food\n",
      "Burgers, Seafood, Chicken Wings, American (Traditional), Restaurants\n",
      "Auto Repair, Auto Glass Services, Oil Change Stations, Automotive, Transmission Repair\n",
      "Auto Repair, Auto Glass Services, Oil Change Stations, Automotive, Transmission Repair\n",
      "Auto Repair, Auto Glass Services, Oil Change Stations, Automotive, Transmission Repair\n",
      "Restaurants, Bars, Food, Argentine, Steakhouses, Nightlife, Wine Bars\n",
      "Food, Gelato, Ice Cream & Frozen Yogurt, Coffee & Tea\n",
      "Polish, Russian, Food, Comfort Food, Ukrainian, Restaurants, Cocktail Bars, Bars, Nightlife\n",
      "Restaurants, Coffee & Tea, Coffee Roasteries, Cafes, Food\n",
      "Local Services, Professional Services, Mobile Phone Repair, IT Services & Computer Repair, Electronics Repair\n",
      "Photography Stores & Services, Electronics, Shopping\n",
      "Beer, Wine & Spirits, Specialty Food, Food, Grocery\n",
      "Beauty & Spas, Hair Salons\n",
      "Restaurants, Bakeries, Specialty Food, Food, Ethnic Food, Mexican, Grocery\n",
      "Restaurants, Comfort Food, Noodles, Japanese, Ramen\n",
      "Seafood, Thai, Restaurants\n",
      "---------\n",
      "{'name': 'Jeff', 'review_count': 43, 'yelping_since': '2015-03-27 18:14:58', 'useful': 22, 'funny': 4, 'cool': 8, 'elite': '', 'fans': 0, 'average_stars': 5.0, 'compliment_hot': 0, 'compliment_more': 0, 'compliment_profile': 0, 'compliment_cute': 0, 'compliment_list': 0, 'compliment_note': 0, 'compliment_plain': 0, 'compliment_cool': 0, 'compliment_funny': 0, 'compliment_writer': 0, 'compliment_photos': 0}\n",
      "Bike Repair/Maintenance, Local Services, Sporting Goods, Shopping, Active Life, Bike Rentals, Bikes\n",
      "Pest Control, Local Services\n",
      "Automotive, Car Wash, Auto Detailing\n",
      "Hostels, Hotels & Travel, Hotels, Guest Houses, Event Planning & Services\n",
      "Automotive, Car Dealers\n",
      "Chiropractors, Doctors, Naturopathic/Holistic, Health & Medical, Acupuncture\n",
      "Local Services, Office Cleaning, Professional Services, Window Washing, Home Services, Carpet Cleaning\n",
      "Electronics, Home & Garden, Shopping, Appliances, Mattresses\n",
      "IT Services & Computer Repair, Local Services, Professional Services, Office Equipment, Shopping, Printing Services\n",
      "Nurseries & Gardening, Landscaping, Home & Garden, Home Services, Shopping, Gardeners, Landscape Architects\n",
      "Movers, Home Services\n",
      "Tree Services, Home Services\n",
      "Health & Medical, Optometrists, Eyewear & Opticians, Shopping\n",
      "Hotels & Travel, Transportation, Taxis, Airport Shuttles, Limos\n",
      "Auto Repair, Body Shops, Car Dealers, Automotive, Used Car Dealers\n",
      "Photographers, Session Photography, Event Planning & Services\n",
      "Home Services, Awnings, Solar Installation, Patio Coverings, Shades & Blinds, Local Services\n",
      "Bridal, Jewelry, Watches, Shopping\n",
      "Recycling Center, Professional Services, Local Services, Shredding Services\n",
      "Paint Stores, Hardware Stores, Home Services, Shades & Blinds, Home & Garden, Shopping\n",
      "Hats, Men's Clothing, Shopping, Sewing & Alterations, Local Services, Accessories, Fashion, Beauty & Spas\n",
      "Mortgage Brokers, Real Estate, Financial Services, Home Services, Mortgage Lenders\n",
      "Oral Surgeons, Dentists, General Dentistry, Health & Medical\n",
      "---------\n",
      "{'name': 'Janet', 'review_count': 42, 'yelping_since': '2014-07-11 00:16:43', 'useful': 14, 'funny': 1, 'cool': 9, 'elite': '', 'fans': 0, 'average_stars': 5.0, 'compliment_hot': 0, 'compliment_more': 0, 'compliment_profile': 0, 'compliment_cute': 0, 'compliment_list': 0, 'compliment_note': 1, 'compliment_plain': 0, 'compliment_cool': 0, 'compliment_funny': 0, 'compliment_writer': 0, 'compliment_photos': 0}\n",
      "Outdoor Furniture Stores, Furniture Stores, Shopping, Home & Garden, Home Decor\n",
      "Restaurants, Sandwiches, Food, Desserts, Breakfast & Brunch\n",
      "Breakfast & Brunch, Sandwiches, Restaurants, Food, American (Traditional), Coffee & Tea\n",
      "Hotels & Travel, Car Rental\n",
      "Auto Parts & Supplies, Car Dealers, Auto Repair, Automotive\n",
      "Professional Services, Home Services, Junk Removal & Hauling, Local Services\n",
      "Arts & Entertainment, Italian, Restaurants, Food, Wineries, Event Planning & Services, Venues & Event Spaces, Pizza\n",
      "Hotels, Hotels & Travel, Event Planning & Services, Venues & Event Spaces\n",
      "Event Planning & Services, Photographers\n",
      "Breakfast & Brunch, Restaurants, Cafes\n",
      "Coffee & Tea, Food\n",
      "Italian, Restaurants, Cafes, Food, Pizza, Bakeries, Delis\n",
      "Body Shops, Automotive, Auto Repair\n",
      "Home Services, Real Estate, Apartments\n",
      "Cosmetics & Beauty Supply, Beauty & Spas, Makeup Artists, Shopping\n",
      "Cosmetics & Beauty Supply, Beauty & Spas, Makeup Artists, Shopping\n",
      "Oral Surgeons, General Dentistry, Health & Medical, Cosmetic Dentists, Periodontists, Dentists\n",
      "Party & Event Planning, Balloon Services, Wedding Planning, Party Supplies, Event Planning & Services\n",
      "Beer Gardens, Nightlife, Wine Bars, American (New), American (Traditional), Coffee & Tea, Restaurants, Bars, Cafes, Beer Bar, Food\n",
      "Cafes, Breakfast & Brunch, Coffee & Tea, Food, Sandwiches, Restaurants\n",
      "Musicians, Performing Arts, DJs, Nightlife, Arts & Entertainment, Event Planning & Services, Dance Clubs, Photo Booth Rentals, Party Equipment Rentals\n",
      "Insurance, Auto Insurance, Banks & Credit Unions, Financial Services, Home & Rental Insurance\n",
      "Flowers & Gifts, Florists, Home & Garden, Shopping, Nurseries & Gardening, Event Planning & Services, Floral Designers\n",
      "Cosmetics & Beauty Supply, Shopping, Skin Care, Beauty & Spas\n",
      "---------\n",
      "{'name': 'Kamilla', 'review_count': 67, 'yelping_since': '2015-09-27 17:45:22', 'useful': 31, 'funny': 4, 'cool': 16, 'elite': '', 'fans': 0, 'average_stars': 4.99, 'compliment_hot': 0, 'compliment_more': 0, 'compliment_profile': 0, 'compliment_cute': 0, 'compliment_list': 0, 'compliment_note': 1, 'compliment_plain': 1, 'compliment_cool': 2, 'compliment_funny': 2, 'compliment_writer': 1, 'compliment_photos': 0}\n",
      "Cycling Classes, Active Life, Fitness & Instruction, Gyms\n",
      "Jazz & Blues, Lounges, Restaurants, Seafood, Steakhouses, Nightlife, Bars, Arts & Entertainment\n",
      "Pressure Washers, Refinishing Services, Home Services, Painters, Gutter Services, Contractors\n",
      "Gluten-Free, Pizza, Restaurants, Salad\n",
      "Restaurants, Pizza\n",
      "Coffee Roasteries, Cafes, Food, Coffee & Tea, Restaurants\n",
      "Allergists, Doctors, Pediatricians, Immunodermatologists, Health & Medical\n",
      "Beauty & Spas, Laser Hair Removal, Hair Removal\n",
      "Flowers & Gifts, Skin Care, Fashion, Shopping, Women's Clothing, Beauty & Spas, Nail Salons\n",
      "Party & Event Planning, Home & Garden, Gift Shops, Shopping, Event Planning & Services, Home Decor, Florists, Flowers & Gifts\n",
      "Health & Medical, Skin Care, Massage Therapy, Beauty & Spas, Medical Spas, Hair Removal, Laser Hair Removal\n",
      "Active Life, Arts & Entertainment, Travel Services, Fitness & Instruction, Escape Games, Challenge Courses, Amusement Parks, Hotels & Travel\n",
      "Beauty & Spas, Hair Salons\n",
      "Hair Removal, Massage, Day Spas, Beauty & Spas, Skin Care\n",
      "Arts & Entertainment, Active Life, Escape Games, Team Building Activities, Event Planning & Services\n",
      "Gluten-Free, Restaurants, Japanese, Sushi Bars\n",
      "Mexican, Food, Meat Shops, Breakfast & Brunch, Restaurants, Specialty Food, Sandwiches\n",
      "Pressure Washers, Home Window Tinting, Home Services, Window Washing, Gutter Services\n",
      "Fashion, Shopping, Women's Clothing\n",
      "Nightlife, Bars, Lounges\n",
      "Dance Schools, Shopping, Specialty Schools, Arts & Entertainment, Fitness & Instruction, Fashion, Active Life, Performing Arts, Education, Dance Studios, Children's Clothing\n",
      "Veterinarians, Pet Boarding, Pet Sitting, Pet Services, Pet Groomers, Pets\n",
      "Steakhouses, Restaurants, Brazilian, Gluten-Free\n",
      "Fashion, Flowers & Gifts, Women's Clothing, Accessories, Gift Shops, Shopping\n",
      "Restaurants, Seafood, American (Traditional), Steakhouses\n",
      "Restaurants, Juice Bars & Smoothies, Food, Creperies, Coffee & Tea\n",
      "Pet Stores, Pet Groomers, Pet Services, Pets\n",
      "Hair Salons, Beauty & Spas\n",
      "Real Estate, Home Services, Real Estate Services, Real Estate Agents\n",
      "Cryotherapy, IV Hydration, Medical Centers, Health & Medical, Beauty & Spas, Saunas, Day Spas, Medical Spas\n",
      "Obstetricians & Gynecologists, Counseling & Mental Health, Doctors, Health & Medical, Family Practice\n",
      "Fitness & Instruction, Active Life, Gyms, Trainers\n",
      "Beauty & Spas, Halotherapy, Fitness & Instruction, Skin Care, Meditation Centers, Health & Medical, Naturopathic/Holistic, Active Life, Doctors, Massage\n",
      "Surf Shop, Lakes, Active Life, Paddleboarding, Fashion, Shopping, Rafting/Kayaking\n",
      "Handyman, Home Services, Contractors\n",
      "Dog Walkers, Pet Sitting, Pets, Pet Services\n",
      "Bubble Tea, Food, Vietnamese, Juice Bars & Smoothies, Asian Fusion, Restaurants\n",
      "Trainers, Fitness & Instruction, Meditation Centers, Active Life, Yoga, Gyms, Pilates\n",
      "Plumbing, Home Services\n",
      "Restaurants, Italian, Pizza\n",
      "Marketing, Web Design, Professional Services, Graphic Design\n",
      "Active Life, Boot Camps, Trainers, Gyms, Fitness & Instruction\n",
      "Restaurants, American (New), Nightlife, Seafood, Vegetarian, Bars, Wine Bars\n",
      "Education, Specialty Schools, Shopping, Home & Garden, Cooking Schools, Kitchen & Bath, Kitchen Supplies, Specialty Food, Appliances, Food\n",
      "Delis, Food, Salad, Bagels, Restaurants\n",
      "Waxing, Hair Removal, Skin Care, Eyelash Service, Nail Technicians, Nail Salons, Beauty & Spas\n",
      "Pediatricians, Doctors, Chiropractors, Sports Medicine, Health & Medical\n",
      "---------\n",
      "{'name': 'Jamye', 'review_count': 15, 'yelping_since': '2016-09-15 20:35:30', 'useful': 6, 'funny': 1, 'cool': 8, 'elite': '', 'fans': 0, 'average_stars': 5.0, 'compliment_hot': 0, 'compliment_more': 0, 'compliment_profile': 0, 'compliment_cute': 0, 'compliment_list': 0, 'compliment_note': 0, 'compliment_plain': 0, 'compliment_cool': 0, 'compliment_funny': 0, 'compliment_writer': 0, 'compliment_photos': 0}\n",
      "Apartments, Home Services, Real Estate\n",
      "Trainers, Gyms, Active Life, Interval Training Gyms, Fitness & Instruction, Boot Camps\n",
      "Cosmetic Dentists, Dentists, General Dentistry, Health & Medical\n",
      "Periodontists, General Dentistry, Health & Medical, Endodontists, Dentists\n",
      "Summer Camps, Child Care & Day Care, Education, Active Life, Preschools, Local Services\n",
      "Bakeries, Food\n",
      "Summer Camps, Child Care & Day Care, Education, Active Life, Preschools, Local Services\n",
      "Automotive, Auto Repair, Oil Change Stations\n",
      "Food, Cupcakes, Bakeries\n",
      "Pizza, Restaurants\n",
      "---------\n"
     ]
    }
   ],
   "source": [
    "# I want to eat pasta\n",
    "for i in TopN_user:\n",
    "    if 'friend' in final_user_feature_dic[i]:   \n",
    "        del final_user_feature_dic[i]['friends']\n",
    "    \n",
    "    print(final_user_feature_dic[i])\n",
    "    users_items = edge_index[i]\n",
    "    for item in users_items:\n",
    "        print(final_item_feature_dic[item]['categories'])\n",
    "    print('---------')"
   ]
  },
  {
   "cell_type": "code",
   "execution_count": null,
   "id": "9836c1f4",
   "metadata": {},
   "outputs": [],
   "source": []
  }
 ],
 "metadata": {
  "kernelspec": {
   "display_name": "Python [conda env:GAN_ROBERTA]",
   "language": "python",
   "name": "conda-env-GAN_ROBERTA-py"
  },
  "language_info": {
   "codemirror_mode": {
    "name": "ipython",
    "version": 3
   },
   "file_extension": ".py",
   "mimetype": "text/x-python",
   "name": "python",
   "nbconvert_exporter": "python",
   "pygments_lexer": "ipython3",
   "version": "3.9.6"
  }
 },
 "nbformat": 4,
 "nbformat_minor": 5
}
