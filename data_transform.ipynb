{
 "cells": [
  {
   "cell_type": "code",
   "execution_count": 127,
   "id": "9d2f17f3",
   "metadata": {},
   "outputs": [],
   "source": [
    "import json\n",
    "from tqdm import tqdm\n",
    "import re\n",
    "def data_tranform(path, output_dir):\n",
    "    final_list = []\n",
    "    with open(path, \"r\",encoding='utf-8') as f:\n",
    "        all_data = f.readlines()\n",
    "        for line in tqdm(all_data):\n",
    "            current_object = json.loads(line)\n",
    "            answer = current_object['answer']\n",
    "            if answer == \"\" and current_object['new_content']!=\"\":\n",
    "                new_content = current_object['new_content']\n",
    "                m = re.search('<em>(.+?)</em>', new_content)\n",
    "                if m:\n",
    "                    answer = m.group(1)\n",
    "            elif answer==\"\" and current_object['new_content']==\"\":\n",
    "                answer = \"\"\n",
    "                \n",
    "            if answer != \"\":\n",
    "                    start_position = current_object['text'].find(answer)\n",
    "                    if start_position == -1:\n",
    "                        end_postiton = -1\n",
    "                        is_impossible = 'true'\n",
    "                    else:\n",
    "                        end_postiton = current_object['text'].find(answer) + len(answer)\n",
    "                        is_impossible = 'false'\n",
    "            else:\n",
    "                is_impossible = 'true'\n",
    "                start_position =  -1\n",
    "                end_postiton =  -1\n",
    "\n",
    "            all_keys = {'question_id':str(current_object['id']),'question':current_object['search_key_word'],\n",
    "                        'qas_id':current_object['id'],'doc_tokens':current_object['text'],'answer_text':answer,\n",
    "                        'start_position':start_position,'end_position':end_postiton,'is_impossible':is_impossible}\n",
    "            final_list.append(all_keys)\n",
    "            \n",
    "    with open(output_dir, \"w\",encoding='utf-8') as f:\n",
    "        for dic in final_list:\n",
    "            jsonString = json.dumps(dic,ensure_ascii=False)\n",
    "            f.write(jsonString)\n",
    "            f.write('\\n')"
   ]
  },
  {
   "cell_type": "code",
   "execution_count": 128,
   "id": "7d252c10",
   "metadata": {},
   "outputs": [
    {
     "name": "stderr",
     "output_type": "stream",
     "text": [
      "100%|██████████████████████████████████████████████████████████████████████████| 1108/1108 [00:00<00:00, 112261.49it/s]\n"
     ]
    }
   ],
   "source": [
    "input_dir = 'cleaned_project-272-at-2021-11-08-18-53-41c13360.json'\n",
    "output_dir =  'final_project-272-at-2021-11-08-18-53-41c13360.json'\n",
    "data_tranform(input_dir,output_dir)"
   ]
  },
  {
   "cell_type": "code",
   "execution_count": null,
   "id": "d537cb4f",
   "metadata": {},
   "outputs": [],
   "source": []
  }
 ],
 "metadata": {
  "kernelspec": {
   "display_name": "Python 3",
   "language": "python",
   "name": "python3"
  },
  "language_info": {
   "codemirror_mode": {
    "name": "ipython",
    "version": 3
   },
   "file_extension": ".py",
   "mimetype": "text/x-python",
   "name": "python",
   "nbconvert_exporter": "python",
   "pygments_lexer": "ipython3",
   "version": "3.8.3"
  }
 },
 "nbformat": 4,
 "nbformat_minor": 5
}
